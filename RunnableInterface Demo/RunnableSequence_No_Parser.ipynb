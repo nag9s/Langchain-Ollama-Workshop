{
 "cells": [
  {
   "cell_type": "code",
   "execution_count": 2,
   "id": "1e716a34-ed5b-4476-ab8c-2c3a6660a837",
   "metadata": {},
   "outputs": [
    {
     "data": {
      "text/plain": [
       "True"
      ]
     },
     "execution_count": 2,
     "metadata": {},
     "output_type": "execute_result"
    }
   ],
   "source": [
    "from dotenv import load_dotenv\n",
    "\n",
    "load_dotenv('../env')"
   ]
  },
  {
   "cell_type": "code",
   "execution_count": 3,
   "id": "d6caf2db-0362-41d4-8e63-871d9112e6bd",
   "metadata": {},
   "outputs": [],
   "source": [
    "from langchain_ollama import ChatOllama\n",
    "\n",
    "base_url = \"http://localhost:11434\"\n",
    "model = 'llama3.2:1b'\n",
    "# Initialize the Llama model \n",
    "llm = ChatOllama(\n",
    "    base_url=base_url,\n",
    "    model = model,\n",
    "    temperature = 0.8,\n",
    "    num_predict = 256\n",
    ")"
   ]
  },
  {
   "cell_type": "code",
   "execution_count": 4,
   "id": "a6649b76-ce6c-4b44-8599-0887ed01921a",
   "metadata": {},
   "outputs": [
    {
     "name": "stdout",
     "output_type": "stream",
     "text": [
      "Transaction Analysis:\n",
      "content=\"I can help with analyzing the provided payment transaction details.\\n\\n**Transaction Details:**\\n\\n- **Transaction Amount:** $1,250.75\\n- **Merchant:** TechCorp Online Store\\n- **Transaction Type:** E-commerce Purchase\\n\\n**Risk Assessment and Potential Fraud Indicators:**\\n\\nBased on common E-commerce transaction patterns, potential fraud indicators, and risk assessment methodologies, here's a detailed analysis:\\n\\n### Transaction Amount and merchant verification:\\n\\n* The transaction amount is relatively low ($1,250.75), which may raise some red flags.\\n* TechCorp Online Store typically handles large transactions (>$10,000) with ease; any small transactions might indicate potential scams or attempts to defraud.\\n\\n### Merchant Type and Reputation:\\n\\n* E-commerce merchants like TechCorp Online Store usually operate from reputable locations (e.g., the United States).\\n* However, even reputable merchant profiles can be vulnerable to phishing, malware infections, or other security risks if not properly monitored.\\n\\n**Risk Factors:**\\n\\n1. **Low transaction amount**: May indicate a high risk of scams or false transactions.\\n2. **Merchant is unknown or unverified**: Raises concerns about the merchant's legitimacy and potential for fraud.\\n3. **Unusual payment method (small amount)**: Might prompt further verification or reporting to the\" additional_kwargs={} response_metadata={'model': 'llama3.2:1b', 'created_at': '2025-03-21T14:09:17.986795382Z', 'done': True, 'done_reason': 'length', 'total_duration': 10853716370, 'load_duration': 34421065, 'prompt_eval_count': 74, 'prompt_eval_duration': 39794761, 'eval_count': 256, 'eval_duration': 10778749118, 'message': Message(role='assistant', content='', images=None, tool_calls=None)} id='run-218c2bb0-70fb-4102-8e01-6abeb3a96e1e-0' usage_metadata={'input_tokens': 74, 'output_tokens': 256, 'total_tokens': 330}\n"
     ]
    }
   ],
   "source": [
    "from langchain_core.prompts import ChatPromptTemplate\n",
    "from langchain_core.output_parsers import StrOutputParser\n",
    "from langchain_core.runnables import RunnableSequence\n",
    "\n",
    "\n",
    "\n",
    "# Create a prompt template for financial transaction analysis\n",
    "transaction_analysis_prompt = ChatPromptTemplate.from_template(\n",
    "    \"\"\"Analyze the following payment transaction details:\n",
    "    - Transaction Amount: {amount}\n",
    "    - Merchant: {merchant}\n",
    "    - Transaction Type: {transaction_type}\n",
    "\n",
    "    Provide a detailed risk assessment and potential fraud indicators.\"\"\"\n",
    ")\n",
    "\n",
    "# Create a RunnableSequence to process the transaction\n",
    "transaction_analysis_chain = (\n",
    "    transaction_analysis_prompt  # First, format the prompt\n",
    "    | llm  # Then, pass to the Llama model for analysis\n",
    "    \n",
    ")\n",
    "\n",
    "# Example usage\n",
    "def analyze_transaction(amount, merchant, transaction_type):\n",
    "    result = transaction_analysis_chain.invoke({\n",
    "        \"amount\": amount,\n",
    "        \"merchant\": merchant,\n",
    "        \"transaction_type\": transaction_type\n",
    "    })\n",
    "    return result\n",
    "\n",
    "# Demonstrate the chain\n",
    "transaction_result = analyze_transaction(\n",
    "    amount=\"$1,250.75\", \n",
    "    merchant=\"TechCorp Online Store\", \n",
    "    transaction_type=\"E-commerce Purchase\"\n",
    ")\n",
    "\n",
    "print(\"Transaction Analysis:\")\n",
    "print(transaction_result)\n"
   ]
  }
 ],
 "metadata": {
  "kernelspec": {
   "display_name": "Python (ml)",
   "language": "python",
   "name": "ml"
  },
  "language_info": {
   "codemirror_mode": {
    "name": "ipython",
    "version": 3
   },
   "file_extension": ".py",
   "mimetype": "text/x-python",
   "name": "python",
   "nbconvert_exporter": "python",
   "pygments_lexer": "ipython3",
   "version": "3.12.9"
  }
 },
 "nbformat": 4,
 "nbformat_minor": 5
}
