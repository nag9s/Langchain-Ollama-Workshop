{
 "cells": [
  {
   "cell_type": "markdown",
   "id": "2731205e",
   "metadata": {},
   "source": [
    "# Langchain and Llama Model Setup"
   ]
  },
  {
   "cell_type": "code",
   "execution_count": 1,
   "id": "34919ade",
   "metadata": {},
   "outputs": [],
   "source": [
    "from langchain_core.prompts import ChatPromptTemplate\n",
    "from langchain_core.runnables import RunnablePassthrough"
   ]
  },
  {
   "cell_type": "markdown",
   "id": "8d11c937",
   "metadata": {},
   "source": [
    "## Setup the Llama model (ensure you have the model downloaded)"
   ]
  },
  {
   "cell_type": "code",
   "execution_count": 1,
   "id": "865537f2",
   "metadata": {},
   "outputs": [
    {
     "data": {
      "text/plain": [
       "False"
      ]
     },
     "execution_count": 1,
     "metadata": {},
     "output_type": "execute_result"
    }
   ],
   "source": [
    "from dotenv import load_dotenv\n",
    "\n",
    "load_dotenv('../env')"
   ]
  },
  {
   "cell_type": "code",
   "execution_count": 3,
   "id": "e5ab80d7",
   "metadata": {},
   "outputs": [],
   "source": [
    "from langchain_ollama import ChatOllama\n",
    "\n",
    "base_url = \"http://localhost:11434\"\n",
    "model = 'llama3.2:1b'\n",
    "llm = ChatOllama(\n",
    "    base_url=base_url,\n",
    "    model = model,\n",
    "    temperature = 0.8,\n",
    "    num_predict = 256\n",
    ")"
   ]
  },
  {
   "cell_type": "markdown",
   "id": "464be842",
   "metadata": {},
   "source": [
    "## Create a prompt template for transaction analysis"
   ]
  },
  {
   "cell_type": "code",
   "execution_count": 4,
   "id": "5ea20969",
   "metadata": {},
   "outputs": [],
   "source": [
    "prompt = ChatPromptTemplate.from_template(\n",
    "    \"Analyze the following payment transaction and provide insights: {transaction}\"\n",
    ")"
   ]
  },
  {
   "cell_type": "markdown",
   "id": "074939ab",
   "metadata": {},
   "source": [
    "## Define a function to process transaction details"
   ]
  },
  {
   "cell_type": "code",
   "execution_count": 5,
   "id": "74b4a2d5",
   "metadata": {},
   "outputs": [],
   "source": [
    "def process_transaction_details(transaction):\n",
    "    \"\"\"\n",
    "    Simulate additional transaction processing logic\n",
    "    In a real-world scenario, this might involve:\n",
    "    - Fraud detection checks\n",
    "    - Compliance verification\n",
    "    - Additional metadata enrichment\n",
    "    \"\"\"\n",
    "    return f\"Processed transaction: {transaction}\""
   ]
  },
  {
   "cell_type": "markdown",
   "id": "d4bf14ff",
   "metadata": {},
   "source": [
    "## Construct the processing chain"
   ]
  },
  {
   "cell_type": "code",
   "execution_count": 18,
   "id": "ffbcc7ba",
   "metadata": {},
   "outputs": [],
   "source": [
    "transaction_chain = (\n",
    "    prompt |  # Apply the prompt template\n",
    "    llm |  # Generate analysis using LLM\n",
    "    process_transaction_details  # Additional processing\n",
    ")"
   ]
  },
  {
   "cell_type": "markdown",
   "id": "ee40ab11",
   "metadata": {},
   "source": [
    "## Demonstration of different Runnable Interface methods"
   ]
  },
  {
   "cell_type": "markdown",
   "id": "902ddac2",
   "metadata": {},
   "source": [
    "### 1. Batch Processing"
   ]
  },
  {
   "cell_type": "code",
   "execution_count": 19,
   "id": "f02ab6c2",
   "metadata": {},
   "outputs": [],
   "source": [
    "def batch_transaction_analysis():\n",
    "    print(\"--- Batch Processing Transactions ---\")\n",
    "    transactions = [\n",
    "        \"Credit card payment of $500 from customer ABC\",\n",
    "        \"International wire transfer of $10,000\",\n",
    "        \"Recurring subscription payment of $49.99\"\n",
    "    ]\n",
    "    \n",
    "    # Batch process multiple transactions\n",
    "    batch_results = transaction_chain.batch(transactions)\n",
    "    \n",
    "    for i, result in enumerate(batch_results, 1):\n",
    "        print(f\"Transaction {i} Analysis: {result}\")"
   ]
  },
  {
   "cell_type": "markdown",
   "id": "fe3cc3fb",
   "metadata": {},
   "source": [
    "### 2. Single Invoke"
   ]
  },
  {
   "cell_type": "code",
   "execution_count": 20,
   "id": "4913990e",
   "metadata": {},
   "outputs": [],
   "source": [
    "def single_transaction_invoke():\n",
    "    print(\"\\n--- Single Transaction Invoke ---\")\n",
    "    transaction = \"Refund processing for order #12345\"\n",
    "    \n",
    "    # Invoke the chain for a single transaction\n",
    "    result = transaction_chain.invoke(transaction)\n",
    "    print(\"Transaction Analysis:\", result)"
   ]
  },
  {
   "cell_type": "markdown",
   "id": "f6f9d9ee",
   "metadata": {},
   "source": [
    "### 3. Streaming Transaction Processing"
   ]
  },
  {
   "cell_type": "code",
   "execution_count": 21,
   "id": "e3565aa6",
   "metadata": {},
   "outputs": [],
   "source": [
    "def stream_transaction_processing():\n",
    "    print(\"\\n--- Streaming Transaction Processing ---\")\n",
    "    transaction = \"High-value international payment of $250,000\"\n",
    "    \n",
    "    print(\"Streaming analysis for transaction:\")\n",
    "    for chunk in transaction_chain.stream(transaction):\n",
    "        print(chunk, end=\"\", flush=True)\n",
    "    print()  # New line after streaming"
   ]
  },
  {
   "cell_type": "markdown",
   "id": "d41359b9",
   "metadata": {},
   "source": [
    "## Run the demonstrations"
   ]
  },
  {
   "cell_type": "code",
   "execution_count": 22,
   "id": "02350892",
   "metadata": {},
   "outputs": [
    {
     "name": "stdout",
     "output_type": "stream",
     "text": [
      "--- Batch Processing Transactions ---\n",
      "Transaction 1 Analysis: Processed transaction: content=\"I'll provide an analysis of the payment transaction.\\n\\n**Transaction Details**\\n\\n* Payment Method: Credit Card\\n* Payment Amount: $500\\n* Customer Name: ABC (first name not provided)\\n* Payment Date: Not specified\\n* Payment Channel: Online\\n\\n**Insights and Analysis**\\n\\n1. **Customer Base**: The customer is a new customer, as the payment amount is below the typical threshold for recurring billing.\\n2. **Payment Frequency**: This is an isolated transaction, indicating that the customer may not be a repeat buyer or have a history of making large purchases.\\n3. **Payment Amount**: $500 is a significant amount, suggesting that this transaction could potentially be a one-time purchase or a larger sale.\\n4. **Credit Card Type**: Based on the payment amount and transaction type, it's likely that the customer has an existing credit card with a reasonable credit limit (e.g., $1,000 - $5,000).\\n5. **Risk Level**: The high payment amount could increase the risk of chargeback or dispute, as this is not a standard purchase.\\n6. **Fraud Detection**: This transaction may trigger fraud detection mechanisms, such as IP blocking or geolocation checks, to prevent unauthorized transactions.\\n\\n**Red Flags**\\n\\n* High payment amount\\n\" additional_kwargs={} response_metadata={'model': 'llama3.2:1b', 'created_at': '2025-03-21T06:17:23.705888166Z', 'done': True, 'done_reason': 'length', 'total_duration': 25466723772, 'load_duration': 1943664593, 'prompt_eval_count': 44, 'prompt_eval_duration': 769531025, 'eval_count': 256, 'eval_duration': 22752431667, 'message': Message(role='assistant', content='', images=None, tool_calls=None)} id='run-b71a1e4b-d756-48b1-9a18-9875e2027559-0' usage_metadata={'input_tokens': 44, 'output_tokens': 256, 'total_tokens': 300}\n",
      "Transaction 2 Analysis: Processed transaction: content=\"I can help you analyze a payment transaction involving an international wire transfer of $10,000. Please provide me with more details:\\n\\n**Transaction Details**\\n\\n* Amount: $10,000\\n* Currency: Which currency is being transferred (e.g., USD, EUR, JPY)?\\n* Source Account Holder:\\n* Beneficiary's Name and Address\\n* Transaction Type: Wire transfer\\n* Transfer Method: Which institution or service provider is facilitating the transfer (e.g., Western Union, MoneyGram, SWIFT)?\\n\\n**Insights**\\n\\n1. **Risks associated with international wire transfers**: International transactions carry inherent risks, including:\\n\\t* Currency exchange rates that may fluctuate significantly\\n\\t* Counterparty risk (risk of the recipient not receiving the funds or not being able to repay)\\n\\t* Payment processing and timing delays\\n2. **Regulatory requirements**: Wire transfer transactions are subject to various regulations, such as:\\n\\t* Know-Your-Customer (KYC) requirements for identification and verification\\n\\t* Anti-Money Laundering (AML) requirements to prevent illicit activities\\n\\t* Reporting requirements to financial regulatory agencies\\n3. **Security measures**: To mitigate risks, the sender may implement security measures, including:\\n\\t* Secure payment processors or intermediaries\\n\" additional_kwargs={} response_metadata={'model': 'llama3.2:1b', 'created_at': '2025-03-21T06:17:23.705881318Z', 'done': True, 'done_reason': 'length', 'total_duration': 25467068083, 'load_duration': 1944237702, 'prompt_eval_count': 43, 'prompt_eval_duration': 768260479, 'eval_count': 256, 'eval_duration': 22753651832, 'message': Message(role='assistant', content='', images=None, tool_calls=None)} id='run-cd081654-51d3-4db6-a1e5-800a6ee0f6f1-0' usage_metadata={'input_tokens': 43, 'output_tokens': 256, 'total_tokens': 299}\n",
      "Transaction 3 Analysis: Processed transaction: content=\"Here's an analysis of a recurring subscription payment of $49.99:\\n\\n**Transaction Details**\\n\\n* Transaction Type: Recurring Subscription\\n* Amount: $49.99\\n* Frequency: Monthly (assuming 12 payments per year)\\n* Payment Method: Credit/Debit Card\\n\\n**Insights:**\\n\\n1. **Revenue Recognition:** The customer is likely to be eligible for revenue recognition under Generally Accepted Accounting Principles (GAAP) or International Financial Reporting Standards (IFRS). According to these standards, a subscription-based service should recognize revenue when it is available for use and can be delivered with reasonable assurance of continued support.\\n2. **Customer Lifetime Value (CLV):** The CLV of the customer can be estimated by multiplying the average monthly recurring payment amount ($49.99) by 12 months. This would result in an estimated CLV of $599.88 per year, or approximately $50.00 per month.\\n3. **Retention Rate:** To determine the retention rate, we need to know how often customers cancel their subscriptions and attempt to resell them. If the customer tries to cancel but is unable to do so due to contractual obligations (e.g., non-refundable deposits), it's likely that a high percentage of subscribers will retain their subscriptions\" additional_kwargs={} response_metadata={'model': 'llama3.2:1b', 'created_at': '2025-03-21T06:17:23.801238104Z', 'done': True, 'done_reason': 'length', 'total_duration': 25562350856, 'load_duration': 1944737649, 'prompt_eval_count': 44, 'prompt_eval_duration': 1358574714, 'eval_count': 256, 'eval_duration': 22258234071, 'message': Message(role='assistant', content='', images=None, tool_calls=None)} id='run-4cedec6d-2cf8-4195-80f7-c5a775679740-0' usage_metadata={'input_tokens': 44, 'output_tokens': 256, 'total_tokens': 300}\n",
      "\n",
      "--- Single Transaction Invoke ---\n",
      "Transaction Analysis: Processed transaction: content=\"I can provide an analysis of a generic payment transaction, focusing on refund processing for order #12345.\\n\\n**Transaction Details**\\n\\nOrder #12345 is a standard online purchase. The customer has completed their payment using credit card ( Visa ) with the following details:\\n\\n- Order Total: $100\\n- Refund Amount: $0 (since the total amount paid is lower than the original order)\\n- Refund Currency: USD\\n\\n**Refund Processing**\\n\\nThe refund process typically involves the following steps:\\n\\n1. **Capture**: The payment gateway captures the credit card transaction and verifies the customer's information.\\n2. **Authorization**: The payment gateway sends an authorization request to the bank, requesting a credit limit approval for the refund amount.\\n3. **Refund Request**: Once the authorization is approved, the system sends a refund request to the bank, specifying the order details ( Order #12345 ) and the desired refund amount ($0).\\n4. **Bank Verification**: The bank verifies the refund request against its internal policies and rules, ensuring that the amount requested matches the original transaction.\\n5. **Refund Settlement**: If the refund is approved, the payment gateway initiates a refund to the customer's bank account.\\n\\n**Insights**\\n\\nBased on this generic transaction analysis, here are\" additional_kwargs={} response_metadata={'model': 'llama3.2:1b', 'created_at': '2025-03-21T06:17:36.144170263Z', 'done': True, 'done_reason': 'length', 'total_duration': 12334143014, 'load_duration': 18425903, 'prompt_eval_count': 43, 'prompt_eval_duration': 146027771, 'eval_count': 256, 'eval_duration': 12169039013, 'message': Message(role='assistant', content='', images=None, tool_calls=None)} id='run-8d30d31d-2b30-46e9-9dc9-f5f5a47eafd2-0' usage_metadata={'input_tokens': 43, 'output_tokens': 256, 'total_tokens': 299}\n",
      "\n",
      "--- Streaming Transaction Processing ---\n",
      "Streaming analysis for transaction:\n",
      "Processed transaction: content=\"I'll analyze the payment transaction for you.\\n\\n**Transaction Details**\\n\\n* Amount: $250,000\\n* Currency: Unknown (e.g., USD, EUR, JPY)\\n* Payment Method: International Bank Transfer\\n* Party 1 (beneficiary): N/A\\n* Party 2 (payer): Individual or Business\\n\\n**Insights**\\n\\n1. **High-value transaction**: The payment of $250,000 is a significant amount, suggesting that it's a substantial transaction.\\n2. **International transfer**: The fact that the transaction involves international banking indicates that multiple countries are involved, potentially across different regions and regulatory environments.\\n3. **Low risk for Party 1 (beneficiary)**: As the beneficiary, there's no indication of any associated risks or fees that would affect their financial situation.\\n4. **Unclear ownership structure**: The lack of information about the specific parties involved in the transaction makes it challenging to understand the ownership dynamics and potential conflicts.\\n5. **Potential for illicit activities**: High-value international transactions may be more susceptible to money laundering, terrorist financing, or other illicit activities. As a result, regulatory bodies and financial institutions must remain vigilant in monitoring such transactions.\\n\\n**Red flags**\\n\\n1. **Unusual payment timing**: The large sum of $250\" additional_kwargs={} response_metadata={'model': 'llama3.2:1b', 'created_at': '2025-03-21T06:17:49.230130137Z', 'done': True, 'done_reason': 'length', 'total_duration': 13076852052, 'load_duration': 19833811, 'prompt_eval_count': 44, 'prompt_eval_duration': 232642802, 'eval_count': 256, 'eval_duration': 12823157368, 'message': Message(role='assistant', content='', images=None, tool_calls=None)} id='run-94dbeccb-e6bc-47d1-9763-305a6dabe7be' usage_metadata={'input_tokens': 44, 'output_tokens': 256, 'total_tokens': 300}\n"
     ]
    }
   ],
   "source": [
    "if __name__ == \"__main__\":\n",
    "    batch_transaction_analysis()\n",
    "    single_transaction_invoke()\n",
    "    stream_transaction_processing()"
   ]
  }
 ],
 "metadata": {
  "kernelspec": {
   "display_name": "Python (ml)",
   "language": "python",
   "name": "ml"
  },
  "language_info": {
   "codemirror_mode": {
    "name": "ipython",
    "version": 3
   },
   "file_extension": ".py",
   "mimetype": "text/x-python",
   "name": "python",
   "nbconvert_exporter": "python",
   "pygments_lexer": "ipython3",
   "version": "3.12.9"
  }
 },
 "nbformat": 4,
 "nbformat_minor": 5
}
