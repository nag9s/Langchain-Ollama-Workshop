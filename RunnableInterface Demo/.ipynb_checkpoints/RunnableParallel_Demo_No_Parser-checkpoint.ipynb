{
 "cells": [
  {
   "cell_type": "code",
   "execution_count": null,
   "id": "0244347d-4ba1-46e6-9385-810f010c3f44",
   "metadata": {},
   "outputs": [],
   "source": [
    "from dotenv import load_dotenv\n",
    "\n",
    "load_dotenv('env')"
   ]
  },
  {
   "cell_type": "code",
   "execution_count": null,
   "id": "ce549654-0e59-4040-8d9f-4774935d0ad4",
   "metadata": {},
   "outputs": [],
   "source": [
    "from langchain_ollama import ChatOllama\n",
    "\n",
    "base_url = \"http://localhost:11434\"\n",
    "model = 'llama3.2:1b'\n",
    "llm = ChatOllama(\n",
    "    base_url=base_url,\n",
    "    model = model,\n",
    "    temperature = 0.8,\n",
    "    num_predict = 256\n",
    ")"
   ]
  },
  {
   "cell_type": "code",
   "execution_count": null,
   "id": "027e33f5-20ec-4e1c-83ab-a03224f6379c",
   "metadata": {},
   "outputs": [],
   "source": [
    "from langchain_core.prompts import ChatPromptTemplate\n",
    "from langchain_core.runnables import RunnableLambda, RunnableParallel\n",
    "# Prompt templates for different payment processing stages\n",
    "fraud_detection_prompt = ChatPromptTemplate.from_template(\n",
    "    \"Analyze the payment details for potential fraud risk. \"\n",
    "    \"Payment amount: ${amount}, Merchant: {merchant}, Card Type: {card_type}\\n\"\n",
    "    \"Provide a fraud risk assessment (low/medium/high) and brief reasoning.\"\n",
    ")\n",
    "\n",
    "compliance_check_prompt = ChatPromptTemplate.from_template(\n",
    "    \"Perform a compliance check on this payment transaction. \"\n",
    "    \"Payment amount: ${amount}, Merchant: {merchant}, Country: {country}\\n\"\n",
    "    \"Check for any regulatory or legal concerns.\"\n",
    ")\n",
    "\n",
    "# Validation function\n",
    "def validate_payment(payment_info):\n",
    "    if payment_info['amount'] <= 0:\n",
    "        return {\"validation_status\": \"failed\", \"reason\": \"Invalid payment amount\"}\n",
    "    return {\"validation_status\": \"passed\"}\n",
    "\n",
    "# Payment processing chain using RunnableParallel\n",
    "payment_processing_chain = RunnableParallel({\n",
    "    # Validation step\n",
    "    \"validation\": RunnableLambda(validate_payment),\n",
    "    \n",
    "    # Fraud detection using LLM\n",
    "    \"fraud_detection\": fraud_detection_prompt | llm,\n",
    "    \n",
    "    # Compliance check using LLM\n",
    "    \"compliance_check\": compliance_check_prompt | llm\n",
    "})\n",
    "\n",
    "# Example usage\n",
    "payment_info = {\n",
    "    \"amount\": 5000,\n",
    "    \"merchant\": \"Global Tech Solutions\",\n",
    "    \"card_type\": \"Corporate Credit Card\",\n",
    "    \"country\": \"United States\"\n",
    "}\n",
    "\n",
    "# Invoke the chain\n",
    "result = payment_processing_chain.invoke(payment_info)\n",
    "print(\"Payment Processing Results:\")\n",
    "for key, value in result.items():\n",
    "    print(f\"{key.replace('_', ' ').title()}: {value}\")"
   ]
  }
 ],
 "metadata": {
  "kernelspec": {
   "display_name": "Python (ml)",
   "language": "python",
   "name": "ml"
  },
  "language_info": {
   "codemirror_mode": {
    "name": "ipython",
    "version": 3
   },
   "file_extension": ".py",
   "mimetype": "text/x-python",
   "name": "python",
   "nbconvert_exporter": "python",
   "pygments_lexer": "ipython3",
   "version": "3.12.9"
  }
 },
 "nbformat": 4,
 "nbformat_minor": 5
}
