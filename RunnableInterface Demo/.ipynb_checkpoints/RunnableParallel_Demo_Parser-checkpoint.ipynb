{
 "cells": [
  {
   "cell_type": "code",
   "execution_count": 1,
   "id": "0244347d-4ba1-46e6-9385-810f010c3f44",
   "metadata": {},
   "outputs": [
    {
     "data": {
      "text/plain": [
       "False"
      ]
     },
     "execution_count": 1,
     "metadata": {},
     "output_type": "execute_result"
    }
   ],
   "source": [
    "from dotenv import load_dotenv\n",
    "\n",
    "load_dotenv('env')"
   ]
  },
  {
   "cell_type": "code",
   "execution_count": 2,
   "id": "ce549654-0e59-4040-8d9f-4774935d0ad4",
   "metadata": {},
   "outputs": [],
   "source": [
    "from langchain_ollama import ChatOllama\n",
    "\n",
    "base_url = \"http://localhost:11434\"\n",
    "model = 'llama3.2:1b'\n",
    "llm = ChatOllama(\n",
    "    base_url=base_url,\n",
    "    model = model,\n",
    "    temperature = 0.8,\n",
    "    num_predict = 256\n",
    ")"
   ]
  },
  {
   "cell_type": "code",
   "execution_count": 1,
   "id": "027e33f5-20ec-4e1c-83ab-a03224f6379c",
   "metadata": {},
   "outputs": [
    {
     "ename": "ImportError",
     "evalue": "cannot import name 'StructuredOutputParser' from 'langchain_core.output_parsers' (/opt/conda/lib/python3.12/site-packages/langchain_core/output_parsers/__init__.py)",
     "output_type": "error",
     "traceback": [
      "\u001b[0;31m---------------------------------------------------------------------------\u001b[0m",
      "\u001b[0;31mImportError\u001b[0m                               Traceback (most recent call last)",
      "Cell \u001b[0;32mIn[1], line 1\u001b[0m\n\u001b[0;32m----> 1\u001b[0m \u001b[38;5;28;01mfrom\u001b[39;00m\u001b[38;5;250m \u001b[39m\u001b[38;5;21;01mlangchain_core\u001b[39;00m\u001b[38;5;21;01m.\u001b[39;00m\u001b[38;5;21;01moutput_parsers\u001b[39;00m\u001b[38;5;250m \u001b[39m\u001b[38;5;28;01mimport\u001b[39;00m (\n\u001b[1;32m      2\u001b[0m     CommaSeparatedListOutputParser, \n\u001b[1;32m      3\u001b[0m     StructuredOutputParser, \n\u001b[1;32m      4\u001b[0m     ResponseSchema\n\u001b[1;32m      5\u001b[0m )\n\u001b[1;32m      7\u001b[0m \u001b[38;5;66;03m# Create output parsers\u001b[39;00m\n\u001b[1;32m      8\u001b[0m fraud_detection_parser \u001b[38;5;241m=\u001b[39m StructuredOutputParser\u001b[38;5;241m.\u001b[39mfrom_response_schemas([\n\u001b[1;32m      9\u001b[0m     ResponseSchema(\n\u001b[1;32m     10\u001b[0m         name\u001b[38;5;241m=\u001b[39m\u001b[38;5;124m\"\u001b[39m\u001b[38;5;124mrisk_level\u001b[39m\u001b[38;5;124m\"\u001b[39m, \n\u001b[0;32m   (...)\u001b[0m\n\u001b[1;32m     16\u001b[0m     )\n\u001b[1;32m     17\u001b[0m ])\n",
      "\u001b[0;31mImportError\u001b[0m: cannot import name 'StructuredOutputParser' from 'langchain_core.output_parsers' (/opt/conda/lib/python3.12/site-packages/langchain_core/output_parsers/__init__.py)"
     ]
    }
   ],
   "source": [
    "from langchain.output_parsers import (\n",
    "    CommaSeparatedListOutputParser, \n",
    "    StructuredOutputParser, \n",
    "    ResponseSchema\n",
    ")\n",
    "\n",
    "# Create output parsers\n",
    "fraud_detection_parser = StructuredOutputParser.from_response_schemas([\n",
    "    ResponseSchema(\n",
    "        name=\"risk_level\", \n",
    "        description=\"Fraud risk level (low/medium/high)\"\n",
    "    ),\n",
    "    ResponseSchema(\n",
    "        name=\"reasoning\", \n",
    "        description=\"Brief explanation of fraud risk assessment\"\n",
    "    )\n",
    "])\n",
    "\n",
    "compliance_check_parser = CommaSeparatedListOutputParser()\n",
    "\n",
    "# Modify prompts to include format instructions\n",
    "fraud_detection_prompt = ChatPromptTemplate.from_template(\n",
    "    \"Analyze the payment details for potential fraud risk. \"\n",
    "    \"Payment amount: ${amount}, Merchant: {merchant}, Card Type: {card_type}\\n\"\n",
    "    \"Provide a fraud risk assessment following this format:\\n\"\n",
    "    \"{format_instructions}\"\n",
    ").partial(format_instructions=fraud_detection_parser.get_format_instructions())\n",
    "\n",
    "compliance_check_prompt = ChatPromptTemplate.from_template(\n",
    "    \"Perform a compliance check on this payment transaction. \"\n",
    "    \"Payment amount: ${amount}, Merchant: {merchant}, Country: {country}\\n\"\n",
    "    \"List any compliance concerns. Respond in a comma-separated list:\\n\"\n",
    "    \"{format_instructions}\"\n",
    ").partial(format_instructions=compliance_check_parser.get_format_instructions())\n",
    "\n",
    "# Validation function using a simple string output parser\n",
    "def validate_payment(payment_info):\n",
    "    if payment_info['amount'] <= 0:\n",
    "        return \"Validation Failed: Invalid payment amount\"\n",
    "    return \"Validation Passed\"\n",
    "\n",
    "# Payment processing chain using RunnableParallel\n",
    "payment_processing_chain = RunnableParallel({\n",
    "    # Validation step\n",
    "    \"validation\": RunnableLambda(validate_payment),\n",
    "    \n",
    "    # Fraud detection using LLM with output parser\n",
    "    \"fraud_detection\": fraud_detection_prompt | llm | fraud_detection_parser,\n",
    "    \n",
    "    # Compliance check using LLM with output parser\n",
    "    \"compliance_check\": compliance_check_prompt | llm | compliance_check_parser\n",
    "})\n",
    "\n",
    "# Example usage\n",
    "payment_info = {\n",
    "    \"amount\": 5000,\n",
    "    \"merchant\": \"Global Tech Solutions\",\n",
    "    \"card_type\": \"Corporate Credit Card\",\n",
    "    \"country\": \"United States\"\n",
    "}\n",
    "\n",
    "# Invoke the chain\n",
    "result = payment_processing_chain.invoke(payment_info)\n",
    "print(\"Payment Processing Results:\")\n",
    "for key, value in result.items():\n",
    "    print(f\"{key.replace('_', ' ').title()}: {value}\")\n"
   ]
  }
 ],
 "metadata": {
  "kernelspec": {
   "display_name": "Python (ml)",
   "language": "python",
   "name": "ml"
  },
  "language_info": {
   "codemirror_mode": {
    "name": "ipython",
    "version": 3
   },
   "file_extension": ".py",
   "mimetype": "text/x-python",
   "name": "python",
   "nbconvert_exporter": "python",
   "pygments_lexer": "ipython3",
   "version": "3.12.9"
  }
 },
 "nbformat": 4,
 "nbformat_minor": 5
}
