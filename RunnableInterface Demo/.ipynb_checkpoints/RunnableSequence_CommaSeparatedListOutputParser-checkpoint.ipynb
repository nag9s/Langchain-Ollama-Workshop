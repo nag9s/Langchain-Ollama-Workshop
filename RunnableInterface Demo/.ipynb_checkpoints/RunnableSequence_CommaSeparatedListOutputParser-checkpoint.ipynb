{
 "cells": [
  {
   "cell_type": "code",
   "execution_count": 3,
   "id": "1e716a34-ed5b-4476-ab8c-2c3a6660a837",
   "metadata": {},
   "outputs": [
    {
     "data": {
      "text/plain": [
       "True"
      ]
     },
     "execution_count": 3,
     "metadata": {},
     "output_type": "execute_result"
    }
   ],
   "source": [
    "from dotenv import load_dotenv\n",
    "\n",
    "load_dotenv('../env')"
   ]
  },
  {
   "cell_type": "code",
   "execution_count": 4,
   "id": "d6caf2db-0362-41d4-8e63-871d9112e6bd",
   "metadata": {},
   "outputs": [],
   "source": [
    "from langchain_ollama import ChatOllama\n",
    "\n",
    "base_url = \"http://localhost:11434\"\n",
    "model = 'llama3.2:1b'\n",
    "# Initialize the Llama model \n",
    "llm = ChatOllama(\n",
    "    base_url=base_url,\n",
    "    model = model,\n",
    "    temperature = 0.8,\n",
    "    num_predict = 256\n",
    ")"
   ]
  },
  {
   "cell_type": "code",
   "execution_count": 5,
   "id": "a6649b76-ce6c-4b44-8599-0887ed01921a",
   "metadata": {},
   "outputs": [
    {
     "name": "stdout",
     "output_type": "stream",
     "text": [
      "Transaction Analysis:\n",
      "['**Transaction Analysis**', 'Based on the provided payment transaction details', \"here's a detailed analysis of the risk factors associated with this transaction:\", '**Merchant Information:**', '* Name: TechCorp Online Store', '* Industry: E-commerce', '* Category: Online Retail', '**Transaction Details:**', '* Transaction Amount: $1', '250.75', '* Merchant Type: E-commerce Purchase (indicating that the payment is made by a business or individual who intends to use goods or services from an e-commerce website)', '* Payment Method: Credit/Debit Card (commonly used for online transactions)', '**Risk Assessment:**', 'The potential risk associated with this transaction can be categorized into three main areas:', '1. **Card Verification Value (CVV) Spoofing**', '\\t* CVV is a security feature added to credit and debit cards to prevent unauthorized card numbers from being entered manually.', '\\t* If the CVV value is not verified or validated', 'it may indicate that the card has been compromised or stolen.', '2. **Card Expiration Date Scanning**', '\\t* The card expiration date should be checked for any suspicious patterns', 'such as near-expiration dates (e.g.', '01/2024) or variations in the month and year.', '3. **Physical Location Verification**', '\\t']\n"
     ]
    }
   ],
   "source": [
    "from langchain_core.prompts import ChatPromptTemplate\n",
    "from langchain.output_parsers import (\n",
    "    CommaSeparatedListOutputParser, \n",
    "    StructuredOutputParser\n",
    ")\n",
    "from langchain_core.runnables import RunnableSequence\n",
    "\n",
    "comma_sep_parser = CommaSeparatedListOutputParser()\n",
    "\n",
    "# Create a prompt template for financial transaction analysis\n",
    "transaction_analysis_prompt = ChatPromptTemplate.from_template(\n",
    "    \"\"\"Analyze the following payment transaction details:\n",
    "    - Transaction Amount: {amount}\n",
    "    - Merchant: {merchant}\n",
    "    - Transaction Type: {transaction_type}\n",
    "\n",
    "    Provide a detailed risk assessment and potential fraud indicators.\"\"\"\n",
    ").partial(format_instructions=comma_sep_parser.get_format_instructions())\n",
    "\n",
    "# Create a RunnableSequence to process the transaction\n",
    "transaction_analysis_chain = (\n",
    "    transaction_analysis_prompt  # First, format the prompt\n",
    "    | llm  # Then, pass to the Llama model for analysis\n",
    "    | comma_sep_parser  # Convert the model output to a comma seperated string\n",
    ")\n",
    "\n",
    "# Example usage\n",
    "def analyze_transaction(amount, merchant, transaction_type):\n",
    "    result = transaction_analysis_chain.invoke({\n",
    "        \"amount\": amount,\n",
    "        \"merchant\": merchant,\n",
    "        \"transaction_type\": transaction_type\n",
    "    })\n",
    "    return result\n",
    "\n",
    "# Demonstrate the chain\n",
    "transaction_result = analyze_transaction(\n",
    "    amount=\"$1,250.75\", \n",
    "    merchant=\"TechCorp Online Store\", \n",
    "    transaction_type=\"E-commerce Purchase\"\n",
    ")\n",
    "\n",
    "print(\"Transaction Analysis:\")\n",
    "print(transaction_result)\n"
   ]
  }
 ],
 "metadata": {
  "kernelspec": {
   "display_name": "Python (ml)",
   "language": "python",
   "name": "ml"
  },
  "language_info": {
   "codemirror_mode": {
    "name": "ipython",
    "version": 3
   },
   "file_extension": ".py",
   "mimetype": "text/x-python",
   "name": "python",
   "nbconvert_exporter": "python",
   "pygments_lexer": "ipython3",
   "version": "3.12.9"
  }
 },
 "nbformat": 4,
 "nbformat_minor": 5
}
