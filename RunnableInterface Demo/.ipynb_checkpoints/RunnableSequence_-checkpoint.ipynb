{
 "cells": [
  {
   "cell_type": "code",
   "execution_count": 1,
   "id": "1e716a34-ed5b-4476-ab8c-2c3a6660a837",
   "metadata": {},
   "outputs": [
    {
     "data": {
      "text/plain": [
       "True"
      ]
     },
     "execution_count": 1,
     "metadata": {},
     "output_type": "execute_result"
    }
   ],
   "source": [
    "from dotenv import load_dotenv\n",
    "\n",
    "load_dotenv('../env')"
   ]
  },
  {
   "cell_type": "code",
   "execution_count": 4,
   "id": "d6caf2db-0362-41d4-8e63-871d9112e6bd",
   "metadata": {},
   "outputs": [],
   "source": [
    "from langchain_ollama import ChatOllama\n",
    "\n",
    "base_url = \"http://localhost:11434\"\n",
    "model = 'llama3.2:1b'\n",
    "# Initialize the Llama model \n",
    "llm = ChatOllama(\n",
    "    base_url=base_url,\n",
    "    model = model,\n",
    "    temperature = 0.8,\n",
    "    num_predict = 256\n",
    ")"
   ]
  },
  {
   "cell_type": "code",
   "execution_count": 6,
   "id": "a6649b76-ce6c-4b44-8599-0887ed01921a",
   "metadata": {},
   "outputs": [
    {
     "name": "stdout",
     "output_type": "stream",
     "text": [
      "Transaction Analysis:\n",
      "Based on the provided payment transaction details, here's a detailed risk assessment and potential fraud indicators:\n",
      "\n",
      "**Transaction Overview**\n",
      "\n",
      "* Transaction Amount: $1,250.75\n",
      "* Merchant: TechCorp Online Store (a well-known e-commerce company with a strong reputation)\n",
      "* Transaction Type: E-commerce Purchase (indicative of online transactions)\n",
      "\n",
      "**Risk Assessment**\n",
      "\n",
      "E-commerce transactions are generally considered low-risk, but there are potential fraud indicators that should be monitored. Here's a detailed risk assessment:\n",
      "\n",
      "1. **Merchant Reputation**: TechCorp Online Store has a good reputation, which reduces the likelihood of fraud.\n",
      "2. **Transaction Amount**: The transaction amount is relatively small ($1,250.75), which may indicate a low-value item or a test payment.\n",
      "3. ** Merchant Type**: E-commerce transactions are generally considered secure, as merchants typically comply with anti-money laundering (AML) and know-your-customer (KYC) regulations.\n",
      "\n",
      "**Potential Fraud Indicators**\n",
      "\n",
      "Based on the transaction details, potential fraud indicators include:\n",
      "\n",
      "1. **Unusual Transaction Amount**: The small transaction amount ($1,250.75) may indicate that the payment is not for a typical product or service.\n",
      "2. **Insufficient Information**: The lack of information about the recipient, such as their name\n"
     ]
    }
   ],
   "source": [
    "from langchain_core.prompts import ChatPromptTemplate\n",
    "from langchain_core.output_parsers import StrOutputParser\n",
    "from langchain_core.runnables import RunnableSequence\n",
    "\n",
    "\n",
    "\n",
    "# Create a prompt template for financial transaction analysis\n",
    "transaction_analysis_prompt = ChatPromptTemplate.from_template(\n",
    "    \"\"\"Analyze the following payment transaction details:\n",
    "    - Transaction Amount: {amount}\n",
    "    - Merchant: {merchant}\n",
    "    - Transaction Type: {transaction_type}\n",
    "\n",
    "    Provide a detailed risk assessment and potential fraud indicators.\"\"\"\n",
    ")\n",
    "\n",
    "# Create a RunnableSequence to process the transaction\n",
    "transaction_analysis_chain = (\n",
    "    transaction_analysis_prompt  # First, format the prompt\n",
    "    | llm  # Then, pass to the Llama model for analysis\n",
    "    | StrOutputParser()  # Convert the model output to a string\n",
    ")\n",
    "\n",
    "# Example usage\n",
    "def analyze_transaction(amount, merchant, transaction_type):\n",
    "    result = transaction_analysis_chain.invoke({\n",
    "        \"amount\": amount,\n",
    "        \"merchant\": merchant,\n",
    "        \"transaction_type\": transaction_type\n",
    "    })\n",
    "    return result\n",
    "\n",
    "# Demonstrate the chain\n",
    "transaction_result = analyze_transaction(\n",
    "    amount=\"$1,250.75\", \n",
    "    merchant=\"TechCorp Online Store\", \n",
    "    transaction_type=\"E-commerce Purchase\"\n",
    ")\n",
    "\n",
    "print(\"Transaction Analysis:\")\n",
    "print(transaction_result)\n"
   ]
  }
 ],
 "metadata": {
  "kernelspec": {
   "display_name": "Python (ml)",
   "language": "python",
   "name": "ml"
  },
  "language_info": {
   "codemirror_mode": {
    "name": "ipython",
    "version": 3
   },
   "file_extension": ".py",
   "mimetype": "text/x-python",
   "name": "python",
   "nbconvert_exporter": "python",
   "pygments_lexer": "ipython3",
   "version": "3.12.9"
  }
 },
 "nbformat": 4,
 "nbformat_minor": 5
}
