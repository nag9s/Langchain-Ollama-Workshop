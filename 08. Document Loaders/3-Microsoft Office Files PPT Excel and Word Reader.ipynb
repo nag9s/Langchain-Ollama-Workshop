{
 "cells": [
  {
   "cell_type": "markdown",
   "metadata": {},
   "source": [
    "## Microsoft Office Files PPT Excel and Word Reader"
   ]
  },
  {
   "cell_type": "markdown",
   "metadata": {},
   "source": [
    "**Important Note:**\n",
    "Unstructured Data Reader Setup\n",
    "\n",
    "https://python.langchain.com/docs/integrations/providers/unstructured/"
   ]
  },
  {
   "cell_type": "markdown",
   "metadata": {},
   "source": [
    "### Project 1: Key Notes and Script Generation for PPT Presentor (Speaker)"
   ]
  },
  {
   "cell_type": "markdown",
   "metadata": {},
   "source": [
    "```bash\n",
    "OSError: No such file or directory: 'C:\\Users\\laxmi\\AppData\\Roaming\\nltk_data\\tokenizers\\punkt\\PY3_tab'\n",
    "```"
   ]
  },
  {
   "cell_type": "markdown",
   "metadata": {},
   "source": [
    "Error Handling:\n",
    "C:\\Users\\laxmi\\AppData\\Roaming\\nltk_data\\tokenizers\\punkt --> PY3 to PY3_tab\n",
    "\n"
   ]
  },
  {
   "cell_type": "code",
   "execution_count": 1,
   "metadata": {},
   "outputs": [
    {
     "name": "stderr",
     "output_type": "stream",
     "text": [
      "[nltk_data] Downloading package punkt to /home/labuser/nltk_data...\n",
      "[nltk_data]   Unzipping tokenizers/punkt.zip.\n"
     ]
    },
    {
     "data": {
      "text/plain": [
       "True"
      ]
     },
     "execution_count": 1,
     "metadata": {},
     "output_type": "execute_result"
    }
   ],
   "source": [
    "import nltk\n",
    "\n",
    "nltk.download('punkt')"
   ]
  },
  {
   "cell_type": "code",
   "execution_count": null,
   "metadata": {},
   "outputs": [
    {
     "name": "stdout",
     "output_type": "stream",
     "text": [
      "Requirement already satisfied: unstructured[all-docs] in /home/labuser/.conda/envs/ml/lib/python3.12/site-packages (0.17.0)\n",
      "Requirement already satisfied: chardet in /home/labuser/.conda/envs/ml/lib/python3.12/site-packages (from unstructured[all-docs]) (5.2.0)\n",
      "Requirement already satisfied: filetype in /home/labuser/.conda/envs/ml/lib/python3.12/site-packages (from unstructured[all-docs]) (1.2.0)\n",
      "Requirement already satisfied: python-magic in /home/labuser/.conda/envs/ml/lib/python3.12/site-packages (from unstructured[all-docs]) (0.4.27)\n",
      "Requirement already satisfied: lxml in /home/labuser/.conda/envs/ml/lib/python3.12/site-packages (from unstructured[all-docs]) (5.3.1)\n",
      "Requirement already satisfied: nltk in /home/labuser/.conda/envs/ml/lib/python3.12/site-packages (from unstructured[all-docs]) (3.9.1)\n",
      "Requirement already satisfied: requests in /home/labuser/.conda/envs/ml/lib/python3.12/site-packages (from unstructured[all-docs]) (2.32.3)\n",
      "Requirement already satisfied: beautifulsoup4 in /home/labuser/.conda/envs/ml/lib/python3.12/site-packages (from unstructured[all-docs]) (4.13.3)\n",
      "Requirement already satisfied: emoji in /home/labuser/.conda/envs/ml/lib/python3.12/site-packages (from unstructured[all-docs]) (2.14.1)\n",
      "Requirement already satisfied: dataclasses-json in /home/labuser/.conda/envs/ml/lib/python3.12/site-packages (from unstructured[all-docs]) (0.6.7)\n",
      "Requirement already satisfied: python-iso639 in /home/labuser/.conda/envs/ml/lib/python3.12/site-packages (from unstructured[all-docs]) (2025.2.18)\n",
      "Requirement already satisfied: langdetect in /home/labuser/.conda/envs/ml/lib/python3.12/site-packages (from unstructured[all-docs]) (1.0.9)\n",
      "Requirement already satisfied: numpy<2 in /home/labuser/.conda/envs/ml/lib/python3.12/site-packages (from unstructured[all-docs]) (1.26.4)\n",
      "Requirement already satisfied: rapidfuzz in /home/labuser/.conda/envs/ml/lib/python3.12/site-packages (from unstructured[all-docs]) (3.12.2)\n",
      "Requirement already satisfied: backoff in /home/labuser/.conda/envs/ml/lib/python3.12/site-packages (from unstructured[all-docs]) (2.2.1)\n",
      "Requirement already satisfied: typing-extensions in /home/labuser/.local/lib/python3.12/site-packages (from unstructured[all-docs]) (4.12.2)\n",
      "Requirement already satisfied: unstructured-client in /home/labuser/.conda/envs/ml/lib/python3.12/site-packages (from unstructured[all-docs]) (0.31.1)\n",
      "Requirement already satisfied: wrapt in /home/labuser/.conda/envs/ml/lib/python3.12/site-packages (from unstructured[all-docs]) (1.17.2)\n",
      "Requirement already satisfied: tqdm in /home/labuser/.conda/envs/ml/lib/python3.12/site-packages (from unstructured[all-docs]) (4.67.1)\n",
      "Requirement already satisfied: psutil in /home/labuser/.conda/envs/ml/lib/python3.12/site-packages (from unstructured[all-docs]) (5.9.0)\n",
      "Requirement already satisfied: python-oxmsg in /home/labuser/.conda/envs/ml/lib/python3.12/site-packages (from unstructured[all-docs]) (0.0.2)\n",
      "Requirement already satisfied: html5lib in /home/labuser/.conda/envs/ml/lib/python3.12/site-packages (from unstructured[all-docs]) (1.1)\n",
      "Collecting markdown (from unstructured[all-docs])\n",
      "  Downloading Markdown-3.7-py3-none-any.whl.metadata (7.0 kB)\n",
      "Collecting unstructured.pytesseract>=0.3.12 (from unstructured[all-docs])\n",
      "  Downloading unstructured.pytesseract-0.3.15-py3-none-any.whl.metadata (11 kB)\n",
      "Requirement already satisfied: python-pptx>=1.0.1 in /home/labuser/.conda/envs/ml/lib/python3.12/site-packages (from unstructured[all-docs]) (1.0.2)\n",
      "Requirement already satisfied: openpyxl in /home/labuser/.conda/envs/ml/lib/python3.12/site-packages (from unstructured[all-docs]) (3.1.5)\n",
      "Collecting onnx (from unstructured[all-docs])\n",
      "  Downloading onnx-1.17.0-cp312-cp312-manylinux_2_17_x86_64.manylinux2014_x86_64.whl.metadata (16 kB)\n",
      "Collecting pikepdf (from unstructured[all-docs])\n",
      "  Downloading pikepdf-9.5.2-cp312-cp312-manylinux_2_17_x86_64.manylinux2014_x86_64.whl.metadata (8.1 kB)\n",
      "Requirement already satisfied: networkx in /home/labuser/.conda/envs/ml/lib/python3.12/site-packages (from unstructured[all-docs]) (3.4.2)\n",
      "Collecting unstructured-inference>=0.8.9 (from unstructured[all-docs])\n",
      "  Downloading unstructured_inference-0.8.9-py3-none-any.whl.metadata (5.3 kB)\n",
      "Requirement already satisfied: pandas in /home/labuser/.conda/envs/ml/lib/python3.12/site-packages (from unstructured[all-docs]) (2.2.3)\n",
      "Requirement already satisfied: pypdf in /home/labuser/.conda/envs/ml/lib/python3.12/site-packages (from unstructured[all-docs]) (5.3.1)\n",
      "Collecting effdet (from unstructured[all-docs])\n",
      "  Downloading effdet-0.4.1-py3-none-any.whl.metadata (33 kB)\n",
      "Collecting google-cloud-vision (from unstructured[all-docs])\n",
      "  Downloading google_cloud_vision-3.10.0-py2.py3-none-any.whl.metadata (5.3 kB)\n",
      "Collecting pypandoc (from unstructured[all-docs])\n",
      "  Downloading pypandoc-1.15-py3-none-any.whl.metadata (16 kB)\n",
      "Collecting pdf2image (from unstructured[all-docs])\n",
      "  Downloading pdf2image-1.17.0-py3-none-any.whl.metadata (6.2 kB)\n",
      "Collecting pdfminer.six (from unstructured[all-docs])\n",
      "  Downloading pdfminer.six-20240706-py3-none-any.whl.metadata (4.1 kB)\n",
      "Collecting pi-heif (from unstructured[all-docs])\n",
      "  Downloading pi_heif-0.21.0-cp312-cp312-manylinux_2_17_x86_64.manylinux2014_x86_64.whl.metadata (6.5 kB)\n",
      "Collecting xlrd (from unstructured[all-docs])\n",
      "  Downloading xlrd-2.0.1-py2.py3-none-any.whl.metadata (3.4 kB)\n",
      "Requirement already satisfied: python-docx>=1.1.2 in /home/labuser/.conda/envs/ml/lib/python3.12/site-packages (from unstructured[all-docs]) (1.1.2)\n",
      "Requirement already satisfied: Pillow>=3.3.2 in /home/labuser/.conda/envs/ml/lib/python3.12/site-packages (from python-pptx>=1.0.1->unstructured[all-docs]) (11.1.0)\n",
      "Requirement already satisfied: XlsxWriter>=0.5.7 in /home/labuser/.conda/envs/ml/lib/python3.12/site-packages (from python-pptx>=1.0.1->unstructured[all-docs]) (3.2.2)\n",
      "Collecting python-multipart (from unstructured-inference>=0.8.9->unstructured[all-docs])\n",
      "  Downloading python_multipart-0.0.20-py3-none-any.whl.metadata (1.8 kB)\n",
      "Requirement already satisfied: huggingface-hub in /home/labuser/.conda/envs/ml/lib/python3.12/site-packages (from unstructured-inference>=0.8.9->unstructured[all-docs]) (0.25.1)\n",
      "Collecting opencv-python!=4.7.0.68 (from unstructured-inference>=0.8.9->unstructured[all-docs])\n",
      "  Downloading opencv_python-4.11.0.86-cp37-abi3-manylinux_2_17_x86_64.manylinux2014_x86_64.whl.metadata (20 kB)\n",
      "Collecting onnxruntime>=1.17.0 (from unstructured-inference>=0.8.9->unstructured[all-docs])\n",
      "  Downloading onnxruntime-1.21.0-cp312-cp312-manylinux_2_27_x86_64.manylinux_2_28_x86_64.whl.metadata (4.7 kB)\n",
      "Collecting matplotlib (from unstructured-inference>=0.8.9->unstructured[all-docs])\n",
      "  Downloading matplotlib-3.10.1-cp312-cp312-manylinux_2_17_x86_64.manylinux2014_x86_64.whl.metadata (11 kB)\n",
      "Requirement already satisfied: torch in /home/labuser/.conda/envs/ml/lib/python3.12/site-packages (from unstructured-inference>=0.8.9->unstructured[all-docs]) (2.6.0)\n",
      "Collecting timm (from unstructured-inference>=0.8.9->unstructured[all-docs])\n",
      "  Downloading timm-1.0.15-py3-none-any.whl.metadata (52 kB)\n",
      "Requirement already satisfied: transformers>=4.25.1 in /home/labuser/.conda/envs/ml/lib/python3.12/site-packages (from unstructured-inference>=0.8.9->unstructured[all-docs]) (4.48.3)\n",
      "Requirement already satisfied: scipy in /home/labuser/.conda/envs/ml/lib/python3.12/site-packages (from unstructured-inference>=0.8.9->unstructured[all-docs]) (1.15.2)\n",
      "Requirement already satisfied: pypdfium2 in /home/labuser/.conda/envs/ml/lib/python3.12/site-packages (from unstructured-inference>=0.8.9->unstructured[all-docs]) (4.30.1)\n",
      "Requirement already satisfied: packaging>=21.3 in /home/labuser/.conda/envs/ml/lib/python3.12/site-packages (from unstructured.pytesseract>=0.3.12->unstructured[all-docs]) (24.2)\n",
      "Requirement already satisfied: soupsieve>1.2 in /home/labuser/.conda/envs/ml/lib/python3.12/site-packages (from beautifulsoup4->unstructured[all-docs]) (2.6)\n",
      "Requirement already satisfied: marshmallow<4.0.0,>=3.18.0 in /home/labuser/.conda/envs/ml/lib/python3.12/site-packages (from dataclasses-json->unstructured[all-docs]) (3.26.1)\n",
      "Requirement already satisfied: typing-inspect<1,>=0.4.0 in /home/labuser/.conda/envs/ml/lib/python3.12/site-packages (from dataclasses-json->unstructured[all-docs]) (0.9.0)\n",
      "Requirement already satisfied: torchvision in /home/labuser/.conda/envs/ml/lib/python3.12/site-packages (from effdet->unstructured[all-docs]) (0.21.0)\n",
      "Collecting pycocotools>=2.0.2 (from effdet->unstructured[all-docs])\n",
      "  Downloading pycocotools-2.0.8-cp312-cp312-manylinux_2_17_x86_64.manylinux2014_x86_64.whl.metadata (1.1 kB)\n",
      "Collecting omegaconf>=2.0 (from effdet->unstructured[all-docs])\n",
      "  Downloading omegaconf-2.3.0-py3-none-any.whl.metadata (3.9 kB)\n",
      "Collecting google-api-core!=2.0.*,!=2.1.*,!=2.10.*,!=2.2.*,!=2.3.*,!=2.4.*,!=2.5.*,!=2.6.*,!=2.7.*,!=2.8.*,!=2.9.*,<3.0.0dev,>=1.34.1 (from google-api-core[grpc]!=2.0.*,!=2.1.*,!=2.10.*,!=2.2.*,!=2.3.*,!=2.4.*,!=2.5.*,!=2.6.*,!=2.7.*,!=2.8.*,!=2.9.*,<3.0.0dev,>=1.34.1->google-cloud-vision->unstructured[all-docs])\n",
      "  Downloading google_api_core-2.24.2-py3-none-any.whl.metadata (3.0 kB)\n",
      "Collecting google-auth!=2.24.0,!=2.25.0,<3.0.0dev,>=2.14.1 (from google-cloud-vision->unstructured[all-docs])\n",
      "  Downloading google_auth-2.38.0-py2.py3-none-any.whl.metadata (4.8 kB)\n",
      "Collecting proto-plus<2.0.0dev,>=1.22.3 (from google-cloud-vision->unstructured[all-docs])\n",
      "  Downloading proto_plus-1.26.1-py3-none-any.whl.metadata (2.2 kB)\n",
      "Collecting protobuf!=4.21.0,!=4.21.1,!=4.21.2,!=4.21.3,!=4.21.4,!=4.21.5,<6.0.0dev,>=3.20.2 (from google-cloud-vision->unstructured[all-docs])\n",
      "  Downloading protobuf-5.29.3-cp38-abi3-manylinux2014_x86_64.whl.metadata (592 bytes)\n",
      "Requirement already satisfied: six>=1.9 in /home/labuser/.conda/envs/ml/lib/python3.12/site-packages (from html5lib->unstructured[all-docs]) (1.17.0)\n",
      "Requirement already satisfied: webencodings in /home/labuser/.conda/envs/ml/lib/python3.12/site-packages (from html5lib->unstructured[all-docs]) (0.5.1)\n",
      "Requirement already satisfied: click in /home/labuser/.conda/envs/ml/lib/python3.12/site-packages (from nltk->unstructured[all-docs]) (8.1.8)\n",
      "Requirement already satisfied: joblib in /home/labuser/.conda/envs/ml/lib/python3.12/site-packages (from nltk->unstructured[all-docs]) (1.4.2)\n",
      "Requirement already satisfied: regex>=2021.8.3 in /home/labuser/.conda/envs/ml/lib/python3.12/site-packages (from nltk->unstructured[all-docs]) (2024.11.6)\n",
      "Requirement already satisfied: et-xmlfile in /home/labuser/.conda/envs/ml/lib/python3.12/site-packages (from openpyxl->unstructured[all-docs]) (2.0.0)\n",
      "Requirement already satisfied: python-dateutil>=2.8.2 in /home/labuser/.conda/envs/ml/lib/python3.12/site-packages (from pandas->unstructured[all-docs]) (2.9.0.post0)\n",
      "Requirement already satisfied: pytz>=2020.1 in /home/labuser/.conda/envs/ml/lib/python3.12/site-packages (from pandas->unstructured[all-docs]) (2025.1)\n",
      "Requirement already satisfied: tzdata>=2022.7 in /home/labuser/.conda/envs/ml/lib/python3.12/site-packages (from pandas->unstructured[all-docs]) (2025.1)\n",
      "Requirement already satisfied: charset-normalizer>=2.0.0 in /home/labuser/.conda/envs/ml/lib/python3.12/site-packages (from pdfminer.six->unstructured[all-docs]) (3.4.1)\n",
      "Requirement already satisfied: cryptography>=36.0.0 in /home/labuser/.conda/envs/ml/lib/python3.12/site-packages (from pdfminer.six->unstructured[all-docs]) (44.0.2)\n",
      "Collecting Deprecated (from pikepdf->unstructured[all-docs])\n",
      "  Downloading Deprecated-1.2.18-py2.py3-none-any.whl.metadata (5.7 kB)\n",
      "Requirement already satisfied: olefile in /home/labuser/.conda/envs/ml/lib/python3.12/site-packages (from python-oxmsg->unstructured[all-docs]) (0.47)\n",
      "Requirement already satisfied: idna<4,>=2.5 in /home/labuser/.conda/envs/ml/lib/python3.12/site-packages (from requests->unstructured[all-docs]) (3.10)\n",
      "Requirement already satisfied: urllib3<3,>=1.21.1 in /home/labuser/.conda/envs/ml/lib/python3.12/site-packages (from requests->unstructured[all-docs]) (2.3.0)\n",
      "Requirement already satisfied: certifi>=2017.4.17 in /home/labuser/.conda/envs/ml/lib/python3.12/site-packages (from requests->unstructured[all-docs]) (2025.1.31)\n",
      "Requirement already satisfied: aiofiles>=24.1.0 in /home/labuser/.conda/envs/ml/lib/python3.12/site-packages (from unstructured-client->unstructured[all-docs]) (24.1.0)\n",
      "Requirement already satisfied: eval-type-backport>=0.2.0 in /home/labuser/.conda/envs/ml/lib/python3.12/site-packages (from unstructured-client->unstructured[all-docs]) (0.2.2)\n",
      "Requirement already satisfied: httpx>=0.27.0 in /home/labuser/.conda/envs/ml/lib/python3.12/site-packages (from unstructured-client->unstructured[all-docs]) (0.27.2)\n",
      "Requirement already satisfied: nest-asyncio>=1.6.0 in /home/labuser/.conda/envs/ml/lib/python3.12/site-packages (from unstructured-client->unstructured[all-docs]) (1.6.0)\n",
      "Requirement already satisfied: pydantic>=2.10.3 in /home/labuser/.local/lib/python3.12/site-packages (from unstructured-client->unstructured[all-docs]) (2.10.6)\n",
      "Requirement already satisfied: requests-toolbelt>=1.0.0 in /home/labuser/.conda/envs/ml/lib/python3.12/site-packages (from unstructured-client->unstructured[all-docs]) (1.0.0)\n",
      "Requirement already satisfied: typing-inspection>=0.4.0 in /home/labuser/.conda/envs/ml/lib/python3.12/site-packages (from unstructured-client->unstructured[all-docs]) (0.4.0)\n",
      "Requirement already satisfied: cffi>=1.12 in /home/labuser/.conda/envs/ml/lib/python3.12/site-packages (from cryptography>=36.0.0->pdfminer.six->unstructured[all-docs]) (1.17.1)\n",
      "Collecting googleapis-common-protos<2.0.0,>=1.56.2 (from google-api-core!=2.0.*,!=2.1.*,!=2.10.*,!=2.2.*,!=2.3.*,!=2.4.*,!=2.5.*,!=2.6.*,!=2.7.*,!=2.8.*,!=2.9.*,<3.0.0dev,>=1.34.1->google-api-core[grpc]!=2.0.*,!=2.1.*,!=2.10.*,!=2.2.*,!=2.3.*,!=2.4.*,!=2.5.*,!=2.6.*,!=2.7.*,!=2.8.*,!=2.9.*,<3.0.0dev,>=1.34.1->google-cloud-vision->unstructured[all-docs])\n",
      "  Downloading googleapis_common_protos-1.69.1-py2.py3-none-any.whl.metadata (9.3 kB)\n",
      "Collecting grpcio<2.0dev,>=1.33.2 (from google-api-core[grpc]!=2.0.*,!=2.1.*,!=2.10.*,!=2.2.*,!=2.3.*,!=2.4.*,!=2.5.*,!=2.6.*,!=2.7.*,!=2.8.*,!=2.9.*,<3.0.0dev,>=1.34.1->google-cloud-vision->unstructured[all-docs])\n",
      "  Downloading grpcio-1.71.0-cp312-cp312-manylinux_2_17_x86_64.manylinux2014_x86_64.whl.metadata (3.8 kB)\n",
      "Collecting grpcio-status<2.0.dev0,>=1.33.2 (from google-api-core[grpc]!=2.0.*,!=2.1.*,!=2.10.*,!=2.2.*,!=2.3.*,!=2.4.*,!=2.5.*,!=2.6.*,!=2.7.*,!=2.8.*,!=2.9.*,<3.0.0dev,>=1.34.1->google-cloud-vision->unstructured[all-docs])\n",
      "  Downloading grpcio_status-1.71.0-py3-none-any.whl.metadata (1.1 kB)\n",
      "Collecting cachetools<6.0,>=2.0.0 (from google-auth!=2.24.0,!=2.25.0,<3.0.0dev,>=2.14.1->google-cloud-vision->unstructured[all-docs])\n",
      "  Downloading cachetools-5.5.2-py3-none-any.whl.metadata (5.4 kB)\n",
      "Collecting pyasn1-modules>=0.2.1 (from google-auth!=2.24.0,!=2.25.0,<3.0.0dev,>=2.14.1->google-cloud-vision->unstructured[all-docs])\n",
      "  Downloading pyasn1_modules-0.4.1-py3-none-any.whl.metadata (3.5 kB)\n",
      "Collecting rsa<5,>=3.1.4 (from google-auth!=2.24.0,!=2.25.0,<3.0.0dev,>=2.14.1->google-cloud-vision->unstructured[all-docs])\n",
      "  Downloading rsa-4.9-py3-none-any.whl.metadata (4.2 kB)\n",
      "Requirement already satisfied: anyio in /home/labuser/.conda/envs/ml/lib/python3.12/site-packages (from httpx>=0.27.0->unstructured-client->unstructured[all-docs]) (4.8.0)\n",
      "Requirement already satisfied: httpcore==1.* in /home/labuser/.conda/envs/ml/lib/python3.12/site-packages (from httpx>=0.27.0->unstructured-client->unstructured[all-docs]) (1.0.7)\n",
      "Requirement already satisfied: sniffio in /home/labuser/.conda/envs/ml/lib/python3.12/site-packages (from httpx>=0.27.0->unstructured-client->unstructured[all-docs]) (1.3.1)\n",
      "Requirement already satisfied: h11<0.15,>=0.13 in /home/labuser/.conda/envs/ml/lib/python3.12/site-packages (from httpcore==1.*->httpx>=0.27.0->unstructured-client->unstructured[all-docs]) (0.14.0)\n",
      "Collecting antlr4-python3-runtime==4.9.* (from omegaconf>=2.0->effdet->unstructured[all-docs])\n",
      "  Downloading antlr4-python3-runtime-4.9.3.tar.gz (117 kB)\n",
      "  Preparing metadata (setup.py) ... \u001b[?25ldone\n",
      "\u001b[?25hRequirement already satisfied: PyYAML>=5.1.0 in /home/labuser/.conda/envs/ml/lib/python3.12/site-packages (from omegaconf>=2.0->effdet->unstructured[all-docs]) (6.0.2)\n",
      "Collecting coloredlogs (from onnxruntime>=1.17.0->unstructured-inference>=0.8.9->unstructured[all-docs])\n",
      "  Downloading coloredlogs-15.0.1-py2.py3-none-any.whl.metadata (12 kB)\n",
      "Collecting flatbuffers (from onnxruntime>=1.17.0->unstructured-inference>=0.8.9->unstructured[all-docs])\n",
      "  Downloading flatbuffers-25.2.10-py2.py3-none-any.whl.metadata (875 bytes)\n",
      "Requirement already satisfied: sympy in /home/labuser/.conda/envs/ml/lib/python3.12/site-packages (from onnxruntime>=1.17.0->unstructured-inference>=0.8.9->unstructured[all-docs]) (1.13.1)\n",
      "Collecting contourpy>=1.0.1 (from matplotlib->unstructured-inference>=0.8.9->unstructured[all-docs])\n",
      "  Downloading contourpy-1.3.1-cp312-cp312-manylinux_2_17_x86_64.manylinux2014_x86_64.whl.metadata (5.4 kB)\n",
      "Collecting cycler>=0.10 (from matplotlib->unstructured-inference>=0.8.9->unstructured[all-docs])\n",
      "  Downloading cycler-0.12.1-py3-none-any.whl.metadata (3.8 kB)\n",
      "Collecting fonttools>=4.22.0 (from matplotlib->unstructured-inference>=0.8.9->unstructured[all-docs])\n",
      "  Downloading fonttools-4.56.0-cp312-cp312-manylinux_2_5_x86_64.manylinux1_x86_64.manylinux_2_17_x86_64.manylinux2014_x86_64.whl.metadata (101 kB)\n",
      "Collecting kiwisolver>=1.3.1 (from matplotlib->unstructured-inference>=0.8.9->unstructured[all-docs])\n",
      "  Downloading kiwisolver-1.4.8-cp312-cp312-manylinux_2_17_x86_64.manylinux2014_x86_64.whl.metadata (6.2 kB)\n",
      "Collecting pyparsing>=2.3.1 (from matplotlib->unstructured-inference>=0.8.9->unstructured[all-docs])\n",
      "  Downloading pyparsing-3.2.1-py3-none-any.whl.metadata (5.0 kB)\n",
      "Requirement already satisfied: annotated-types>=0.6.0 in /home/labuser/.conda/envs/ml/lib/python3.12/site-packages (from pydantic>=2.10.3->unstructured-client->unstructured[all-docs]) (0.7.0)\n",
      "Requirement already satisfied: pydantic-core==2.27.2 in /home/labuser/.local/lib/python3.12/site-packages (from pydantic>=2.10.3->unstructured-client->unstructured[all-docs]) (2.27.2)\n",
      "Requirement already satisfied: safetensors in /home/labuser/.conda/envs/ml/lib/python3.12/site-packages (from timm->unstructured-inference>=0.8.9->unstructured[all-docs]) (0.5.3)\n",
      "Requirement already satisfied: filelock in /home/labuser/.conda/envs/ml/lib/python3.12/site-packages (from torch->unstructured-inference>=0.8.9->unstructured[all-docs]) (3.17.0)\n",
      "Requirement already satisfied: jinja2 in /home/labuser/.conda/envs/ml/lib/python3.12/site-packages (from torch->unstructured-inference>=0.8.9->unstructured[all-docs]) (3.1.5)\n",
      "Requirement already satisfied: fsspec in /home/labuser/.conda/envs/ml/lib/python3.12/site-packages (from torch->unstructured-inference>=0.8.9->unstructured[all-docs]) (2025.2.0)\n",
      "Requirement already satisfied: nvidia-cuda-nvrtc-cu12==12.4.127 in /home/labuser/.conda/envs/ml/lib/python3.12/site-packages (from torch->unstructured-inference>=0.8.9->unstructured[all-docs]) (12.4.127)\n",
      "Requirement already satisfied: nvidia-cuda-runtime-cu12==12.4.127 in /home/labuser/.conda/envs/ml/lib/python3.12/site-packages (from torch->unstructured-inference>=0.8.9->unstructured[all-docs]) (12.4.127)\n",
      "Requirement already satisfied: nvidia-cuda-cupti-cu12==12.4.127 in /home/labuser/.conda/envs/ml/lib/python3.12/site-packages (from torch->unstructured-inference>=0.8.9->unstructured[all-docs]) (12.4.127)\n",
      "Requirement already satisfied: nvidia-cudnn-cu12==9.1.0.70 in /home/labuser/.conda/envs/ml/lib/python3.12/site-packages (from torch->unstructured-inference>=0.8.9->unstructured[all-docs]) (9.1.0.70)\n",
      "Requirement already satisfied: nvidia-cublas-cu12==12.4.5.8 in /home/labuser/.conda/envs/ml/lib/python3.12/site-packages (from torch->unstructured-inference>=0.8.9->unstructured[all-docs]) (12.4.5.8)\n",
      "Requirement already satisfied: nvidia-cufft-cu12==11.2.1.3 in /home/labuser/.conda/envs/ml/lib/python3.12/site-packages (from torch->unstructured-inference>=0.8.9->unstructured[all-docs]) (11.2.1.3)\n",
      "Requirement already satisfied: nvidia-curand-cu12==10.3.5.147 in /home/labuser/.conda/envs/ml/lib/python3.12/site-packages (from torch->unstructured-inference>=0.8.9->unstructured[all-docs]) (10.3.5.147)\n",
      "Requirement already satisfied: nvidia-cusolver-cu12==11.6.1.9 in /home/labuser/.conda/envs/ml/lib/python3.12/site-packages (from torch->unstructured-inference>=0.8.9->unstructured[all-docs]) (11.6.1.9)\n",
      "Requirement already satisfied: nvidia-cusparse-cu12==12.3.1.170 in /home/labuser/.conda/envs/ml/lib/python3.12/site-packages (from torch->unstructured-inference>=0.8.9->unstructured[all-docs]) (12.3.1.170)\n",
      "Requirement already satisfied: nvidia-cusparselt-cu12==0.6.2 in /home/labuser/.conda/envs/ml/lib/python3.12/site-packages (from torch->unstructured-inference>=0.8.9->unstructured[all-docs]) (0.6.2)\n",
      "Requirement already satisfied: nvidia-nccl-cu12==2.21.5 in /home/labuser/.conda/envs/ml/lib/python3.12/site-packages (from torch->unstructured-inference>=0.8.9->unstructured[all-docs]) (2.21.5)\n",
      "Requirement already satisfied: nvidia-nvtx-cu12==12.4.127 in /home/labuser/.conda/envs/ml/lib/python3.12/site-packages (from torch->unstructured-inference>=0.8.9->unstructured[all-docs]) (12.4.127)\n",
      "Requirement already satisfied: nvidia-nvjitlink-cu12==12.4.127 in /home/labuser/.conda/envs/ml/lib/python3.12/site-packages (from torch->unstructured-inference>=0.8.9->unstructured[all-docs]) (12.4.127)\n",
      "Requirement already satisfied: triton==3.2.0 in /home/labuser/.conda/envs/ml/lib/python3.12/site-packages (from torch->unstructured-inference>=0.8.9->unstructured[all-docs]) (3.2.0)\n",
      "Requirement already satisfied: setuptools in /home/labuser/.conda/envs/ml/lib/python3.12/site-packages (from torch->unstructured-inference>=0.8.9->unstructured[all-docs]) (75.8.0)\n",
      "Requirement already satisfied: mpmath<1.4,>=1.1.0 in /home/labuser/.conda/envs/ml/lib/python3.12/site-packages (from sympy->onnxruntime>=1.17.0->unstructured-inference>=0.8.9->unstructured[all-docs]) (1.3.0)\n",
      "Requirement already satisfied: tokenizers<0.22,>=0.21 in /home/labuser/.conda/envs/ml/lib/python3.12/site-packages (from transformers>=4.25.1->unstructured-inference>=0.8.9->unstructured[all-docs]) (0.21.0)\n",
      "Requirement already satisfied: mypy-extensions>=0.3.0 in /home/labuser/.conda/envs/ml/lib/python3.12/site-packages (from typing-inspect<1,>=0.4.0->dataclasses-json->unstructured[all-docs]) (1.0.0)\n",
      "Requirement already satisfied: pycparser in /home/labuser/.conda/envs/ml/lib/python3.12/site-packages (from cffi>=1.12->cryptography>=36.0.0->pdfminer.six->unstructured[all-docs]) (2.22)\n",
      "Collecting pyasn1<0.7.0,>=0.4.6 (from pyasn1-modules>=0.2.1->google-auth!=2.24.0,!=2.25.0,<3.0.0dev,>=2.14.1->google-cloud-vision->unstructured[all-docs])\n",
      "  Downloading pyasn1-0.6.1-py3-none-any.whl.metadata (8.4 kB)\n",
      "Collecting humanfriendly>=9.1 (from coloredlogs->onnxruntime>=1.17.0->unstructured-inference>=0.8.9->unstructured[all-docs])\n",
      "  Downloading humanfriendly-10.0-py2.py3-none-any.whl.metadata (9.2 kB)\n",
      "Requirement already satisfied: MarkupSafe>=2.0 in /home/labuser/.conda/envs/ml/lib/python3.12/site-packages (from jinja2->torch->unstructured-inference>=0.8.9->unstructured[all-docs]) (3.0.2)\n",
      "Downloading unstructured_inference-0.8.9-py3-none-any.whl (48 kB)\n",
      "Downloading unstructured.pytesseract-0.3.15-py3-none-any.whl (14 kB)\n",
      "Downloading effdet-0.4.1-py3-none-any.whl (112 kB)\n",
      "Downloading google_cloud_vision-3.10.0-py2.py3-none-any.whl (523 kB)\n",
      "Downloading Markdown-3.7-py3-none-any.whl (106 kB)\n",
      "Downloading onnx-1.17.0-cp312-cp312-manylinux_2_17_x86_64.manylinux2014_x86_64.whl (16.0 MB)\n",
      "\u001b[2K   \u001b[90m━━━━━━━━━━━━━━━━━━━━━━━━━━━━━━━━━━━━━━━━\u001b[0m \u001b[32m16.0/16.0 MB\u001b[0m \u001b[31m95.1 MB/s\u001b[0m eta \u001b[36m0:00:00\u001b[0m\n",
      "\u001b[?25hDownloading pdf2image-1.17.0-py3-none-any.whl (11 kB)\n",
      "Downloading pdfminer.six-20240706-py3-none-any.whl (5.6 MB)\n",
      "\u001b[2K   \u001b[90m━━━━━━━━━━━━━━━━━━━━━━━━━━━━━━━━━━━━━━━━\u001b[0m \u001b[32m5.6/5.6 MB\u001b[0m \u001b[31m103.0 MB/s\u001b[0m eta \u001b[36m0:00:00\u001b[0m\n",
      "\u001b[?25hDownloading pi_heif-0.21.0-cp312-cp312-manylinux_2_17_x86_64.manylinux2014_x86_64.whl (1.2 MB)\n",
      "\u001b[2K   \u001b[90m━━━━━━━━━━━━━━━━━━━━━━━━━━━━━━━━━━━━━━━━\u001b[0m \u001b[32m1.2/1.2 MB\u001b[0m \u001b[31m70.8 MB/s\u001b[0m eta \u001b[36m0:00:00\u001b[0m\n",
      "\u001b[?25hDownloading pikepdf-9.5.2-cp312-cp312-manylinux_2_17_x86_64.manylinux2014_x86_64.whl (2.4 MB)\n",
      "\u001b[2K   \u001b[90m━━━━━━━━━━━━━━━━━━━━━━━━━━━━━━━━━━━━━━━━\u001b[0m \u001b[32m2.4/2.4 MB\u001b[0m \u001b[31m65.4 MB/s\u001b[0m eta \u001b[36m0:00:00\u001b[0m\n",
      "\u001b[?25hDownloading pypandoc-1.15-py3-none-any.whl (21 kB)\n",
      "Downloading xlrd-2.0.1-py2.py3-none-any.whl (96 kB)\n",
      "Downloading google_api_core-2.24.2-py3-none-any.whl (160 kB)\n",
      "Downloading google_auth-2.38.0-py2.py3-none-any.whl (210 kB)\n",
      "Downloading omegaconf-2.3.0-py3-none-any.whl (79 kB)\n",
      "Downloading onnxruntime-1.21.0-cp312-cp312-manylinux_2_27_x86_64.manylinux_2_28_x86_64.whl (16.0 MB)\n",
      "\u001b[2K   \u001b[90m━━━━━━━━━━━━━━━━━━━━━━━━━━━━━━━━━━━━━━━━\u001b[0m \u001b[32m16.0/16.0 MB\u001b[0m \u001b[31m72.2 MB/s\u001b[0m eta \u001b[36m0:00:00\u001b[0m:00:01\u001b[0m\n",
      "\u001b[?25hDownloading opencv_python-4.11.0.86-cp37-abi3-manylinux_2_17_x86_64.manylinux2014_x86_64.whl (63.0 MB)\n",
      "\u001b[2K   \u001b[90m━━━━━━━━━━━━━━━━━━━━━━━━━━━━━━━━━━━━━━━━\u001b[0m \u001b[32m63.0/63.0 MB\u001b[0m \u001b[31m103.1 MB/s\u001b[0m eta \u001b[36m0:00:00\u001b[0m00:01\u001b[0m00:01\u001b[0m\n",
      "\u001b[?25hDownloading proto_plus-1.26.1-py3-none-any.whl (50 kB)\n",
      "Downloading protobuf-5.29.3-cp38-abi3-manylinux2014_x86_64.whl (319 kB)\n",
      "Downloading pycocotools-2.0.8-cp312-cp312-manylinux_2_17_x86_64.manylinux2014_x86_64.whl (443 kB)\n",
      "Downloading matplotlib-3.10.1-cp312-cp312-manylinux_2_17_x86_64.manylinux2014_x86_64.whl (8.6 MB)\n",
      "\u001b[2K   \u001b[90m━━━━━━━━━━━━━━━━━━━━━━━━━━━━━━━━━━━━━━━━\u001b[0m \u001b[32m8.6/8.6 MB\u001b[0m \u001b[31m73.3 MB/s\u001b[0m eta \u001b[36m0:00:00\u001b[0m\n",
      "\u001b[?25hDownloading timm-1.0.15-py3-none-any.whl (2.4 MB)\n",
      "\u001b[2K   \u001b[90m━━━━━━━━━━━━━━━━━━━━━━━━━━━━━━━━━━━━━━━━\u001b[0m \u001b[32m2.4/2.4 MB\u001b[0m \u001b[31m73.5 MB/s\u001b[0m eta \u001b[36m0:00:00\u001b[0m\n",
      "\u001b[?25hDownloading Deprecated-1.2.18-py2.py3-none-any.whl (10.0 kB)\n",
      "Downloading python_multipart-0.0.20-py3-none-any.whl (24 kB)\n",
      "Downloading cachetools-5.5.2-py3-none-any.whl (10 kB)\n",
      "Downloading contourpy-1.3.1-cp312-cp312-manylinux_2_17_x86_64.manylinux2014_x86_64.whl (323 kB)\n",
      "Downloading cycler-0.12.1-py3-none-any.whl (8.3 kB)\n",
      "Downloading fonttools-4.56.0-cp312-cp312-manylinux_2_5_x86_64.manylinux1_x86_64.manylinux_2_17_x86_64.manylinux2014_x86_64.whl (4.9 MB)\n",
      "\u001b[2K   \u001b[90m━━━━━━━━━━━━━━━━━━━━━━━━━━━━━━━━━━━━━━━━\u001b[0m \u001b[32m4.9/4.9 MB\u001b[0m \u001b[31m64.2 MB/s\u001b[0m eta \u001b[36m0:00:00\u001b[0m\n",
      "\u001b[?25hDownloading googleapis_common_protos-1.69.1-py2.py3-none-any.whl (293 kB)\n",
      "Downloading grpcio-1.71.0-cp312-cp312-manylinux_2_17_x86_64.manylinux2014_x86_64.whl (5.9 MB)\n",
      "\u001b[2K   \u001b[90m━━━━━━━━━━━━━━━━━━━━━━━━━━━━━━━━━━━━━━━━\u001b[0m \u001b[32m5.9/5.9 MB\u001b[0m \u001b[31m53.6 MB/s\u001b[0m eta \u001b[36m0:00:00\u001b[0m\n",
      "\u001b[?25hDownloading grpcio_status-1.71.0-py3-none-any.whl (14 kB)\n",
      "Downloading kiwisolver-1.4.8-cp312-cp312-manylinux_2_17_x86_64.manylinux2014_x86_64.whl (1.5 MB)\n",
      "\u001b[2K   \u001b[90m━━━━━━━━━━━━━━━━━━━━━━━━━━━━━━━━━━━━━━━━\u001b[0m \u001b[32m1.5/1.5 MB\u001b[0m \u001b[31m34.7 MB/s\u001b[0m eta \u001b[36m0:00:00\u001b[0m\n",
      "\u001b[?25hDownloading pyasn1_modules-0.4.1-py3-none-any.whl (181 kB)\n",
      "Downloading pyparsing-3.2.1-py3-none-any.whl (107 kB)\n",
      "Downloading rsa-4.9-py3-none-any.whl (34 kB)\n",
      "Downloading coloredlogs-15.0.1-py2.py3-none-any.whl (46 kB)\n",
      "Downloading flatbuffers-25.2.10-py2.py3-none-any.whl (30 kB)\n",
      "Downloading humanfriendly-10.0-py2.py3-none-any.whl (86 kB)\n",
      "Downloading pyasn1-0.6.1-py3-none-any.whl (83 kB)\n",
      "Building wheels for collected packages: antlr4-python3-runtime\n",
      "  Building wheel for antlr4-python3-runtime (setup.py) ... \u001b[?25ldone\n",
      "\u001b[?25h  Created wheel for antlr4-python3-runtime: filename=antlr4_python3_runtime-4.9.3-py3-none-any.whl size=144591 sha256=f0173ae6dc296eedc348cfda36550461fd0066433900f5905cd5451947837e78\n",
      "  Stored in directory: /home/labuser/.cache/pip/wheels/1f/be/48/13754633f1d08d1fbfc60d5e80ae1e5d7329500477685286cd\n",
      "Successfully built antlr4-python3-runtime\n",
      "Installing collected packages: flatbuffers, antlr4-python3-runtime, xlrd, unstructured.pytesseract, python-multipart, pyparsing, pypandoc, pyasn1, protobuf, pi-heif, pdf2image, opencv-python, omegaconf, markdown, kiwisolver, humanfriendly, grpcio, fonttools, Deprecated, cycler, contourpy, cachetools, rsa, pyasn1-modules, proto-plus, pikepdf, onnx, matplotlib, googleapis-common-protos, coloredlogs, pycocotools, pdfminer.six, onnxruntime, grpcio-status, google-auth, google-api-core, timm, unstructured-inference, google-cloud-vision, effdet\n",
      "Successfully installed Deprecated-1.2.18 antlr4-python3-runtime-4.9.3 cachetools-5.5.2 coloredlogs-15.0.1 contourpy-1.3.1 cycler-0.12.1 effdet-0.4.1 flatbuffers-25.2.10 fonttools-4.56.0 google-api-core-2.24.2 google-auth-2.38.0 google-cloud-vision-3.10.0 googleapis-common-protos-1.69.1 grpcio-1.71.0 grpcio-status-1.71.0 humanfriendly-10.0 kiwisolver-1.4.8 markdown-3.7 matplotlib-3.10.1 omegaconf-2.3.0 onnx-1.17.0 onnxruntime-1.21.0 opencv-python-4.11.0.86 pdf2image-1.17.0 pdfminer.six-20240706 pi-heif-0.21.0 pikepdf-9.5.2 proto-plus-1.26.1 protobuf-5.29.3 pyasn1-0.6.1 pyasn1-modules-0.4.1 pycocotools-2.0.8 pypandoc-1.15 pyparsing-3.2.1 python-multipart-0.0.20 rsa-4.9 timm-1.0.15 unstructured-inference-0.8.9 unstructured.pytesseract-0.3.15 xlrd-2.0.1\n"
     ]
    }
   ],
   "source": [
    "\n",
    "#!pip install unstructured openpyxl python-magic python-pptx\n",
    "#!pip install \"unstructured[all-docs]\""
   ]
  },
  {
   "cell_type": "code",
   "execution_count": 6,
   "metadata": {},
   "outputs": [],
   "source": [
    "from langchain_community.document_loaders import UnstructuredPowerPointLoader\n",
    "\n",
    "loader = UnstructuredPowerPointLoader(\"data/ml_course.pptx\", mode=\"elements\")\n",
    "\n",
    "docs = loader.load()"
   ]
  },
  {
   "cell_type": "code",
   "execution_count": 7,
   "metadata": {},
   "outputs": [
    {
     "data": {
      "text/plain": [
       "47"
      ]
     },
     "execution_count": 7,
     "metadata": {},
     "output_type": "execute_result"
    }
   ],
   "source": [
    "len(docs)"
   ]
  },
  {
   "cell_type": "code",
   "execution_count": 8,
   "metadata": {},
   "outputs": [
    {
     "data": {
      "text/plain": [
       "'Machine Learning Model Deployment'"
      ]
     },
     "execution_count": 8,
     "metadata": {},
     "output_type": "execute_result"
    }
   ],
   "source": [
    "doc = docs[0]\n",
    "doc.metadata\n",
    "doc.page_content"
   ]
  },
  {
   "cell_type": "code",
   "execution_count": 9,
   "metadata": {},
   "outputs": [],
   "source": [
    "ppt_data = {}\n",
    "for doc in docs:\n",
    "    page = doc.metadata[\"page_number\"]\n",
    "    ppt_data[page] = ppt_data.get(page, \"\")  + \"\\n\\n\" + doc.page_content"
   ]
  },
  {
   "cell_type": "code",
   "execution_count": 10,
   "metadata": {},
   "outputs": [
    {
     "data": {
      "text/plain": [
       "{1: '\\n\\nMachine Learning Model Deployment\\n\\nIntroduction to ML Pipeline\\n\\nhttps://bit.ly/bert_nlp\\n\\n',\n",
       " 2: '\\n\\nWhat is Machine Learning Pipeline?\\n\\n',\n",
       " 3: '\\n\\nType of ML Deployment\\n\\nBatch: In batch deployment, ML models process large volumes of data at scheduled intervals, ideal for tasks like end-of-day reporting or monthly analytics.\\n\\nStream: Stream deployment enables ML models to process and analyze data in real-time as it flows in, suitable for applications like fraud detection or live social media analysis.\\n\\nRealtime: Realtime deployment allows ML models to provide instant predictions or decisions in response to incoming data, essential for use cases like recommendation systems or autonomous driving.\\n\\nEdge: Edge deployment involves running ML models on local devices close to the data source, reducing latency and bandwidth usage, which is crucial for IoT applications and smart devices.\\n\\n',\n",
       " 4: '\\n\\nInfrastructure and Integration\\n\\nHardware and Software: Setting up the right environment for model deployment.\\n\\nIntegration: Seamlessly integrating the model with existing systems and applications.\\n\\n',\n",
       " 5: '\\n\\nBenefits of Deploying ML Models\\n\\nFocus on new models, not maintaining existing models || Prevention of bugs || Creation of records for debugging and reproducing results || Standardization || Allows models to handle real-time data and large user bases.\\n\\n',\n",
       " 6: '\\n\\nChallenges in ML Deployment\\n\\nData Management: Making sure the model gets the right kind of data.\\n\\nModel Scalability and Performance: Ensuring that their model can effectively scale as it keeps adding more complex information.\\n\\nIntegration with Existing Systems: Fitting the model into current computers and software.\\n\\nMonitoring and Maintenance: Watching and fixing the model over time.\\n\\nSecurity and Privacy: Protecting data and keeping it private.\\n\\nResource Management: Using computer resources like memory and power wisely.\\n\\nVersioning and Model Management: Keeping track of different versions of the model.\\n\\nRegulatory Compliance: Making sure the model follows the laws, rules, and regulations.\\n\\nUser Acceptance and Trust: Getting people to trust and accept the model.\\n\\nExplainability and Transparency: Being able to explain how the model works.\\n\\nCost Management: Managing how much it costs to use the model.\\n\\nAs per research, only 13% of ML models ever make it to production. This is a huge gap, considering the possibilities that AI model deployment can bring to the organization.\\n\\n',\n",
       " 7: '\\n\\nData and Model Management\\n\\nData Pipelines: Building and maintaining data pipelines for continuous data flow.\\n\\nModel Versioning: Tracking and managing different versions of models.\\n\\n',\n",
       " 8: '\\n\\nA/B Testing\\n\\nObjective Comparison: A/B testing allows for an objective comparison of two model versions to determine which performs better based on specific metrics.\\n\\nReal-World Application: It is widely used to optimize user experiences, such as testing different recommendation systems or ad strategies to enhance engagement or conversion rates.\\n\\nStatistical Significance: The technique ensures that performance differences are statistically significant and not due to random chance by using control and treatment groups along with statistical tests.\\n\\n',\n",
       " 9: '\\n\\nSecurity, Compliance and Bias\\n\\nSecurity: Ensuring the security of machine learning models involves protecting sensitive data from unauthorized access and breaches through robust encryption, secure APIs, and access controls\\n\\nCompliance: Adhering to industry regulations and standards, such as GDPR or HIPAA, is critical to ensure the legal and ethical use of data in machine learning deployments. This involves data anonymization, user consent, and regular compliance audits.\\n\\nBias Detection: Identifying and mitigating bias in ML models is crucial to prevent unfair and discriminatory outcomes. This involves using diverse training datasets, applying fairness-aware algorithms, and conducting bias impact assessments\\n\\nContinuous Monitoring: Regular monitoring and updating of deployed models are essential to maintain security, compliance, and fairness. This involves real-time performance tracking, automated alerts for anomalies, and periodic model retraining.'}"
      ]
     },
     "execution_count": 10,
     "metadata": {},
     "output_type": "execute_result"
    }
   ],
   "source": [
    "ppt_data"
   ]
  },
  {
   "cell_type": "code",
   "execution_count": 11,
   "metadata": {},
   "outputs": [],
   "source": [
    "context = \"\"\n",
    "for page, content in ppt_data.items():\n",
    "    context += f\"### Slide {page}:\\n\\n{content.strip()}\\n\\n\\n\""
   ]
  },
  {
   "cell_type": "code",
   "execution_count": 12,
   "metadata": {},
   "outputs": [],
   "source": [
    "# print(context)"
   ]
  },
  {
   "cell_type": "code",
   "execution_count": 13,
   "metadata": {},
   "outputs": [],
   "source": [
    "### LLM Code\n",
    "from scripts import llm"
   ]
  },
  {
   "cell_type": "code",
   "execution_count": 14,
   "metadata": {},
   "outputs": [],
   "source": [
    "question =\"\"\"\n",
    "For each PowerPoint slide provided above, write a 2-minute script that effectively conveys the key points.\n",
    "Ensure a smooth flow between slides, maintaining a clear and engaging narrative.\n",
    "\"\"\"\n",
    "\n",
    "response = llm.ask_llm(context, question)"
   ]
  },
  {
   "cell_type": "code",
   "execution_count": 15,
   "metadata": {},
   "outputs": [],
   "source": [
    "# print(response)\n",
    "with open(\"data/ppt_script.md\", \"w\") as f:\n",
    "    f.write(response)"
   ]
  },
  {
   "cell_type": "markdown",
   "metadata": {},
   "source": [
    "### Project 2: Excel Data Analysis with LLM \n",
    "**Note:** Currently LLMs are not good in Math and Data Analysis.\n"
   ]
  },
  {
   "cell_type": "code",
   "execution_count": 16,
   "metadata": {},
   "outputs": [],
   "source": [
    "from langchain_community.document_loaders import  UnstructuredExcelLoader"
   ]
  },
  {
   "cell_type": "code",
   "execution_count": 17,
   "metadata": {},
   "outputs": [
    {
     "data": {
      "text/plain": [
       "'First Name Last Name City Gender Brandon James Miami M Sean Hawkins Denver M Judy Day Los Angeles F Ashley Ruiz San Francisco F Stephanie Gomez Portland F'"
      ]
     },
     "execution_count": 17,
     "metadata": {},
     "output_type": "execute_result"
    }
   ],
   "source": [
    "loader = UnstructuredExcelLoader(\"data/sample.xlsx\",  mode=\"elements\")\n",
    "docs = loader.load()\n",
    "\n",
    "len(docs)\n",
    "\n",
    "doc = docs[0]\n",
    "doc.metadata\n",
    "\n",
    "doc.page_content\n"
   ]
  },
  {
   "cell_type": "code",
   "execution_count": 18,
   "metadata": {},
   "outputs": [],
   "source": [
    "context = doc.metadata['text_as_html']"
   ]
  },
  {
   "cell_type": "code",
   "execution_count": 19,
   "metadata": {},
   "outputs": [
    {
     "data": {
      "text/plain": [
       "'<table><tr><td>First Name</td><td>Last Name</td><td>City</td><td>Gender</td></tr><tr><td>Brandon</td><td>James</td><td>Miami</td><td>M</td></tr><tr><td>Sean</td><td>Hawkins</td><td>Denver</td><td>M</td></tr><tr><td>Judy</td><td>Day</td><td>Los Angeles</td><td>F</td></tr><tr><td>Ashley</td><td>Ruiz</td><td>San Francisco</td><td>F</td></tr><tr><td>Stephanie</td><td>Gomez</td><td>Portland</td><td>F</td></tr></table>'"
      ]
     },
     "execution_count": 19,
     "metadata": {},
     "output_type": "execute_result"
    }
   ],
   "source": [
    "context"
   ]
  },
  {
   "cell_type": "code",
   "execution_count": 20,
   "metadata": {},
   "outputs": [
    {
     "name": "stdout",
     "output_type": "stream",
     "text": [
      "| First Name | Last Name | City    | Gender |\n",
      "|:-----------|:----------|:---------|:-------|\n",
      "| Brandon     | James     | Miami    | M       |\n",
      "| Sean        | Hawkins   | Denver   | M       |\n",
      "| Judy        | Day        | Los Angeles | F      |\n",
      "| Ashley      | Ruiz      | San Francisco  | F      |\n",
      "| Stephanie   | Gomez     | Portland   | F      |\n"
     ]
    }
   ],
   "source": [
    "question = \"Return this data in Markdown format.\"\n",
    "response = llm.ask_llm(context, question)\n",
    "print(response)"
   ]
  },
  {
   "cell_type": "code",
   "execution_count": 21,
   "metadata": {},
   "outputs": [
    {
     "name": "stdout",
     "output_type": "stream",
     "text": [
      "| First Name | Last Name | City | Gender |\n",
      "|------------|-----------|------|--------|\n",
      "| Judy       | Day       | Los Angeles | F     |\n",
      "| Ashley     | Ruiz      | San Francisco | F     |\n",
      "| Stephanie  | Gomez     | Portland   | F     |\n"
     ]
    }
   ],
   "source": [
    "question = \"Return all entris in the table where Gender is 'F'. Format the response in Markdown. Do not write preambles and explanation.\"\n",
    "response = llm.ask_llm(context, question)\n",
    "print(response)"
   ]
  },
  {
   "cell_type": "code",
   "execution_count": 22,
   "metadata": {},
   "outputs": [
    {
     "name": "stdout",
     "output_type": "stream",
     "text": [
      "### Table with Male Enteries\n",
      "| First Name | Last Name | City      | Gender |\n",
      "|------------|-----------|-----------|--------|\n",
      "| Brandon    | James     | Miami     | M      |\n",
      "| Sean       | Hawkins   | Denver     | M      |\n"
     ]
    }
   ],
   "source": [
    "question = \"Return all entris in the table where Gender is 'male'. Format the response in Markdown. Do not write preambles and explanation.\"\n",
    "response = llm.ask_llm(context, question)\n",
    "print(response)"
   ]
  },
  {
   "cell_type": "markdown",
   "metadata": {},
   "source": [
    "### Project 3: Personalized Job Application Letter"
   ]
  },
  {
   "cell_type": "code",
   "execution_count": 23,
   "metadata": {},
   "outputs": [],
   "source": [
    "# !pip install -U docx2txt"
   ]
  },
  {
   "cell_type": "code",
   "execution_count": 24,
   "metadata": {},
   "outputs": [],
   "source": [
    "from langchain_community.document_loaders import  Docx2txtLoader\n",
    "\n",
    "loader = Docx2txtLoader(\"data/job_description.docx\")\n",
    "\n",
    "docs = loader.load()"
   ]
  },
  {
   "cell_type": "code",
   "execution_count": 25,
   "metadata": {},
   "outputs": [],
   "source": [
    "context = docs[0].page_content"
   ]
  },
  {
   "cell_type": "code",
   "execution_count": 26,
   "metadata": {},
   "outputs": [],
   "source": [
    "# print(context)"
   ]
  },
  {
   "cell_type": "code",
   "execution_count": 27,
   "metadata": {},
   "outputs": [
    {
     "name": "stdout",
     "output_type": "stream",
     "text": [
      "Dear Hiring Manager,\n",
      "\n",
      "I am excited to apply for the Data Scientist position at SpiceJet. As a recent graduate from IIT with a focus on Natural Language Processing and Machine Learning, I am confident that my skills and expertise align well with the requirements of this role.\n",
      "\n",
      "With a strong foundation in mathematical and statistical expertise, programming languages such as Python, R, and Excel, and experience with machine learning platforms and techniques, I am well-equipped to deliver insights and automate systems for business value. My proficiency in NLP and ML will enable me to develop effective models for extracting relevant data and communicating insights to stakeholders.\n",
      "\n",
      "I am particularly drawn to this role because of the opportunity to work on projects that can impact revenue, costs, and customer satisfaction. I am excited about collaborating with product design and engineering teams to understand business needs and developing solutions that drive business value.\n",
      "\n",
      "Thank you for considering my application. I look forward to discussing how my skills and experience can contribute to SpiceJet's success.\n",
      "\n",
      "Sincerely,\n",
      "Aaditya\n"
     ]
    }
   ],
   "source": [
    "question =\"\"\"\n",
    "My name is Aaditya, and I am a recent graduate from IIT with a focus on Natural Language Processing and Machine Learning.\n",
    "I am applying for a Data Scientist position at SpiceJet.\n",
    "Please write a concise job application email for me in short, removing any placeholders, including references to job boards or sources.\n",
    "\"\"\"\n",
    "response = llm.ask_llm(context, question)\n",
    "print(response)"
   ]
  },
  {
   "cell_type": "code",
   "execution_count": null,
   "metadata": {},
   "outputs": [],
   "source": []
  },
  {
   "cell_type": "code",
   "execution_count": null,
   "metadata": {},
   "outputs": [],
   "source": []
  },
  {
   "cell_type": "code",
   "execution_count": null,
   "metadata": {},
   "outputs": [],
   "source": []
  },
  {
   "cell_type": "code",
   "execution_count": null,
   "metadata": {},
   "outputs": [],
   "source": []
  }
 ],
 "metadata": {
  "kernelspec": {
   "display_name": "Python 3",
   "language": "python",
   "name": "python3"
  },
  "language_info": {
   "codemirror_mode": {
    "name": "ipython",
    "version": 3
   },
   "file_extension": ".py",
   "mimetype": "text/x-python",
   "name": "python",
   "nbconvert_exporter": "python",
   "pygments_lexer": "ipython3",
   "version": "3.12.4"
  }
 },
 "nbformat": 4,
 "nbformat_minor": 2
}
