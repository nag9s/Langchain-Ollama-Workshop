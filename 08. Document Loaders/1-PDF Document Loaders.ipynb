{
 "cells": [
  {
   "cell_type": "markdown",
   "metadata": {},
   "source": [
    "## PDF Document Loaders\n",
    "- Load various kind of documents from the web and local files.\n",
    "- Apply LLM to the documents for summarization and question answering."
   ]
  },
  {
   "cell_type": "markdown",
   "metadata": {},
   "source": [
    "### Project 1: Question Answering from PDF Document\n",
    "- We will load the document from the local file and apply LLM to answer the questions.\n",
    "- Lets use research paper published on the missuse of the health supplements for workout. "
   ]
  },
  {
   "cell_type": "markdown",
   "metadata": {},
   "source": [
    "rag-dataset: git@github.com:laxmimerit/rag-dataset.git\n",
    "\n",
    "```bash\n",
    "git clone git@github.com:laxmimerit/rag-dataset.git\n",
    "```"
   ]
  },
  {
   "cell_type": "code",
   "execution_count": 9,
   "metadata": {},
   "outputs": [
    {
     "data": {
      "text/plain": [
       "True"
      ]
     },
     "execution_count": 9,
     "metadata": {},
     "output_type": "execute_result"
    }
   ],
   "source": [
    "from dotenv import load_dotenv\n",
    "\n",
    "load_dotenv('../env')"
   ]
  },
  {
   "cell_type": "code",
   "execution_count": 10,
   "metadata": {},
   "outputs": [],
   "source": [
    "from langchain_community.document_loaders import PyMuPDFLoader\n",
    "\n",
    "loader = PyMuPDFLoader(\"rag-dataset/health supplements/1. dietary supplements - for whom.pdf\")\n",
    "\n",
    "docs = loader.load()"
   ]
  },
  {
   "cell_type": "code",
   "execution_count": 11,
   "metadata": {},
   "outputs": [
    {
     "data": {
      "text/plain": [
       "17"
      ]
     },
     "execution_count": 11,
     "metadata": {},
     "output_type": "execute_result"
    }
   ],
   "source": [
    "len(docs)"
   ]
  },
  {
   "cell_type": "code",
   "execution_count": 12,
   "metadata": {},
   "outputs": [],
   "source": [
    "# docs[0].metadata\n",
    "# print(docs[0].page_content)"
   ]
  },
  {
   "cell_type": "code",
   "execution_count": 13,
   "metadata": {},
   "outputs": [],
   "source": [
    "### Read the list of PDFs in the dir\n",
    "import os\n",
    "\n",
    "pdfs = []\n",
    "for root, dirs, files in os.walk(\"rag-dataset\"):\n",
    "    # print(root, dirs, files)\n",
    "    for file in files:\n",
    "        if file.endswith(\".pdf\"):\n",
    "            pdfs.append(os.path.join(root, file))"
   ]
  },
  {
   "cell_type": "code",
   "execution_count": 14,
   "metadata": {},
   "outputs": [],
   "source": [
    "docs = []\n",
    "for pdf in pdfs:\n",
    "    loader = PyMuPDFLoader(pdf)\n",
    "    temp = loader.load()\n",
    "    docs.extend(temp)\n",
    "\n",
    "    # print(temp)\n",
    "    # break"
   ]
  },
  {
   "cell_type": "code",
   "execution_count": 15,
   "metadata": {},
   "outputs": [
    {
     "data": {
      "text/plain": [
       "324"
      ]
     },
     "execution_count": 15,
     "metadata": {},
     "output_type": "execute_result"
    }
   ],
   "source": [
    "len(docs)"
   ]
  },
  {
   "cell_type": "code",
   "execution_count": 16,
   "metadata": {},
   "outputs": [],
   "source": [
    "def format_docs(docs):\n",
    "    return \"\\n\\n\".join([x.page_content for x in docs])\n",
    "\n",
    "\n",
    "context = format_docs(docs)"
   ]
  },
  {
   "cell_type": "code",
   "execution_count": 17,
   "metadata": {},
   "outputs": [
    {
     "data": {
      "text/plain": [
       "Document(metadata={'producer': 'Microsoft® Word for Microsoft 365', 'creator': 'Microsoft® Word for Microsoft 365', 'creationdate': '2024-10-30T20:21:42-07:00', 'source': 'rag-dataset/finance/facebook/META-Q3-2024-Earnings-Call-Transcript.pdf', 'file_path': 'rag-dataset/finance/facebook/META-Q3-2024-Earnings-Call-Transcript.pdf', 'total_pages': 19, 'format': 'PDF 1.7', 'title': 'META Q3 2024 Earnings Call Transcript', 'author': 'Kenneth Dorell;Jonathan Rong Li', 'subject': '', 'keywords': '', 'moddate': '2024-10-30T20:21:42-07:00', 'trapped': '', 'modDate': \"D:20241030202142-07'00'\", 'creationDate': \"D:20241030202142-07'00'\", 'page': 0}, page_content=\"1 \\n \\nMeta Platforms, Inc. (META) \\nThird Quarter 2024 Results Conference Call \\nOctober 30th, 2024 \\n \\nKenneth Dorell, Director, Investor Relations \\n \\n \\nThank you. Good afternoon and welcome to Meta Platforms third quarter 2024 earnings \\nconference call. Joining me today to discuss our results are Mark Zuckerberg, CEO and Susan Li, \\nCFO. \\n \\nBefore we get started, I would like to take this opportunity to remind you that our remarks today \\nwill include forward‐looking statements. Actual results may differ materially from those \\ncontemplated by these forward‐looking statements. \\n \\nFactors that could cause these results to differ materially are set forth in today’s earnings press \\nrelease, and in our quarterly report on form 10-Q filed with the SEC. Any forward‐looking \\nstatements that we make on this call are based on assumptions as of today and we undertake no \\nobligation to update these statements as a result of new information or future events. \\n \\nDuring this call we will present both GAAP and certain non‐GAAP financial measures. A \\nreconciliation of GAAP to non‐GAAP measures is included in today’s earnings press release. The \\nearnings press release and an accompanying investor presentation are available on our website at \\ninvestor.fb.com. \\n \\nAnd now, I’d like to turn the call over to Mark. \\n \\nMark Zuckerberg, CEO \\n \\nThanks, Ken. This was a good quarter with strong product and business momentum, and with \\nparts of our long-term vision around AI and the future of computing coming into sharper focus. \\nWe estimate that there are now more than 3.2 billion people using at least one of our apps each \\nday -- and we're seeing rapid adoption of Meta AI and Llama, which is quickly becoming a standard \\nacross the industry. \\n \\nSo let's start with some highlights from the apps. For WhatsApp, the US remains one of our \\nfastest growing countries. And we just passed a milestone of 2 billion calls made globally every \\nday. On Facebook, we continue to see positive trends with young adults, especially in the US. On \\nInstagram, global growth remains strong. We also launched Teen Accounts this quarter, which add \\nbuilt-in protections that limit who teens are messaging and what content they can see. On \\nThreads, the community now has almost 275 million monthly actives. It has been growing more \\nthan 1 million sign-ups per day. Engagement is growing too. So we continue to be on track \\ntowards this becoming our next major social app. \\n \\nWe are making a lot of progress with our AI efforts too, and we're seeing AI have a positive impact \\non nearly all aspects of our work -- from our core business engagement and monetization to our \\nlong-term roadmaps for new services and computing platforms. And I think that this partially \\ncomes from having a vision and roadmap that is aligned with the direction that technology is \\nheading, but even more importantly from our teams doing some really excellent work on execution \\non so many fronts.\")"
      ]
     },
     "execution_count": 17,
     "metadata": {},
     "output_type": "execute_result"
    }
   ],
   "source": [
    "docs[0]"
   ]
  },
  {
   "cell_type": "code",
   "execution_count": 18,
   "metadata": {},
   "outputs": [],
   "source": [
    "# print(context)"
   ]
  },
  {
   "cell_type": "code",
   "execution_count": 19,
   "metadata": {},
   "outputs": [],
   "source": [
    "import tiktoken\n",
    "\n",
    "encoding = tiktoken.encoding_for_model(\"gpt-4o-mini\")\n"
   ]
  },
  {
   "cell_type": "code",
   "execution_count": 20,
   "metadata": {},
   "outputs": [
    {
     "data": {
      "text/plain": [
       "([542, 111291, 14571], [81, 31847, 80, 5276])"
      ]
     },
     "execution_count": 20,
     "metadata": {},
     "output_type": "execute_result"
    }
   ],
   "source": [
    "encoding.encode(\"congratulations\"), encoding.encode(\"rqsqeft\")"
   ]
  },
  {
   "cell_type": "code",
   "execution_count": 21,
   "metadata": {},
   "outputs": [
    {
     "data": {
      "text/plain": [
       "627"
      ]
     },
     "execution_count": 21,
     "metadata": {},
     "output_type": "execute_result"
    }
   ],
   "source": [
    "len(encoding.encode(docs[0].page_content))"
   ]
  },
  {
   "cell_type": "code",
   "execution_count": 22,
   "metadata": {},
   "outputs": [
    {
     "data": {
      "text/plain": [
       "230329"
      ]
     },
     "execution_count": 22,
     "metadata": {},
     "output_type": "execute_result"
    }
   ],
   "source": [
    "len(encoding.encode(context))"
   ]
  },
  {
   "cell_type": "code",
   "execution_count": 23,
   "metadata": {},
   "outputs": [
    {
     "data": {
      "text/plain": [
       "62016"
      ]
     },
     "execution_count": 23,
     "metadata": {},
     "output_type": "execute_result"
    }
   ],
   "source": [
    "969*64"
   ]
  },
  {
   "cell_type": "code",
   "execution_count": 24,
   "metadata": {},
   "outputs": [],
   "source": [
    "### Question Answering using LLM\n",
    "from langchain_ollama import ChatOllama\n",
    "\n",
    "from langchain_core.prompts import (SystemMessagePromptTemplate, HumanMessagePromptTemplate,\n",
    "                                    ChatPromptTemplate)\n",
    "\n",
    "\n",
    "\n",
    "from langchain_core.output_parsers import StrOutputParser\n",
    "\n",
    "base_url = \"http://localhost:11434\"\n",
    "model = 'llama3.2:3b'\n",
    "\n",
    "llm = ChatOllama(base_url=base_url, model=model)\n"
   ]
  },
  {
   "cell_type": "code",
   "execution_count": 25,
   "metadata": {},
   "outputs": [],
   "source": [
    "system = SystemMessagePromptTemplate.from_template(\"\"\"You are helpful AI assistant who answer user question based on the provided context. \n",
    "                                                    Do not answer in more than {words} words\"\"\")\n",
    "\n",
    "prompt = \"\"\"Answer user question based on the provided context ONLY! If you do not know the answer, just say \"I don't know\".\n",
    "            ### Context:\n",
    "            {context}\n",
    "\n",
    "            ### Question:\n",
    "            {question}\n",
    "\n",
    "            ### Answer:\"\"\"\n",
    "\n",
    "prompt = HumanMessagePromptTemplate.from_template(prompt)\n",
    "\n",
    "messages = [system, prompt]\n",
    "template = ChatPromptTemplate(messages)\n",
    "\n",
    "# template\n",
    "# template.invoke({'context': context, 'question': \"How to gain muscle mass?\", 'words': 50})\n",
    "\n",
    "qna_chain = template | llm | StrOutputParser()"
   ]
  },
  {
   "cell_type": "code",
   "execution_count": 26,
   "metadata": {},
   "outputs": [
    {
     "data": {
      "text/plain": [
       "ChatPromptTemplate(input_variables=['context', 'question', 'words'], input_types={}, partial_variables={}, messages=[SystemMessagePromptTemplate(prompt=PromptTemplate(input_variables=['words'], input_types={}, partial_variables={}, template='You are helpful AI assistant who answer user question based on the provided context. \\n                                                    Do not answer in more than {words} words'), additional_kwargs={}), HumanMessagePromptTemplate(prompt=PromptTemplate(input_variables=['context', 'question'], input_types={}, partial_variables={}, template='Answer user question based on the provided context ONLY! If you do not know the answer, just say \"I don\\'t know\".\\n            ### Context:\\n            {context}\\n\\n            ### Question:\\n            {question}\\n\\n            ### Answer:'), additional_kwargs={})])\n",
       "| ChatOllama(model='llama3.2:3b', base_url='http://localhost:11434')\n",
       "| StrOutputParser()"
      ]
     },
     "execution_count": 26,
     "metadata": {},
     "output_type": "execute_result"
    }
   ],
   "source": [
    "qna_chain"
   ]
  },
  {
   "cell_type": "code",
   "execution_count": null,
   "metadata": {},
   "outputs": [],
   "source": [
    "response = qna_chain.invoke({'context': context, 'question': \"How to gain muscle mass?\", 'words': 50})\n",
    "print(response)"
   ]
  },
  {
   "cell_type": "code",
   "execution_count": null,
   "metadata": {},
   "outputs": [
    {
     "name": "stdout",
     "output_type": "stream",
     "text": [
      "I don't see a question related to reducing weight in the text. The provided text appears to be about toxic mechanisms of action of botanical supplements and potential side effects, rather than weight loss. If you'd like to know how to reduce weight, I'd be happy to provide general information or help with a related topic.\n"
     ]
    }
   ],
   "source": [
    "response = qna_chain.invoke({'context': context, 'question': \"How to reduce the weight?\", 'words': 50})\n",
    "print(response)"
   ]
  },
  {
   "cell_type": "code",
   "execution_count": null,
   "metadata": {},
   "outputs": [
    {
     "name": "stdout",
     "output_type": "stream",
     "text": [
      "I can help with that!\n",
      "\n",
      "To answer your question, there is no single \"best\" way to lose weight, but here are some general tips that may be helpful:\n",
      "\n",
      "1. **Eat a healthy and balanced diet**: Focus on whole, unprocessed foods like vegetables, fruits, whole grains, lean proteins, and healthy fats.\n",
      "2. **Keep track of your calorie intake**: Use a food diary or an app to track your daily calorie consumption. Aim for a deficit of 500-1000 calories per day to promote weight loss.\n",
      "3. **Stay hydrated**: Drink plenty of water throughout the day to help control hunger and boost metabolism.\n",
      "4. **Exercise regularly**: Aim for at least 150 minutes of moderate-intensity aerobic exercise, or 75 minutes of vigorous-intensity aerobic exercise, or a combination of both, per week. You can also incorporate strength training and high-intensity interval training (HIIT) into your routine.\n",
      "5. **Get enough sleep**: Aim for 7-9 hours of sleep per night to help regulate hunger hormones and support weight loss.\n",
      "6. **Be mindful of portion sizes**: Use a food scale or measuring cups to measure out your food portions, and eat slowly and mindfully to avoid overeating.\n",
      "7. **Find healthy ways to cope with stress**: Chronic stress can lead to overeating and weight gain. Try stress-reducing techniques like meditation, yoga, or deep breathing exercises.\n",
      "8. **Get enough physical activity outside of exercise**: Take the stairs instead of the elevator, walk or bike to work, or do household chores to increase your overall physical activity levels.\n",
      "\n",
      "Remember, losing weight is not just about following a specific diet or exercise plan - it's also about making sustainable lifestyle changes that you can maintain in the long term. Consult with a healthcare professional or registered dietitian to create a personalized weight loss plan that suits your needs and goals!\n"
     ]
    }
   ],
   "source": [
    "response = qna_chain.invoke({'context': context, 'question': \"How to do weight loss?\", 'words': 50})\n",
    "print(response)"
   ]
  },
  {
   "cell_type": "code",
   "execution_count": null,
   "metadata": {},
   "outputs": [
    {
     "name": "stdout",
     "output_type": "stream",
     "text": [
      "There is no information about planets in the provided text. The text discusses botanical supplements, their active constituents, typical use and dosage, adverse effects, and potential herb-drug interactions. It does not mention planets or our solar system.\n"
     ]
    }
   ],
   "source": [
    "response = qna_chain.invoke({'context': context, 'question': \"How many planets are there outside of our solar system?\", 'words': 50})\n",
    "print(response)"
   ]
  },
  {
   "cell_type": "markdown",
   "metadata": {},
   "source": [
    "### Project 2: PDF Document Summarization"
   ]
  },
  {
   "cell_type": "code",
   "execution_count": null,
   "metadata": {},
   "outputs": [],
   "source": [
    "system = SystemMessagePromptTemplate.from_template(\"\"\"You are helpful AI assistant who works as document summarizer. \n",
    "                                                   You must not hallucinate or provide any false information.\"\"\")\n",
    "\n",
    "prompt = \"\"\"Summarize the given context in {words}.\n",
    "            ### Context:\n",
    "            {context}\n",
    "\n",
    "            ### Summary:\"\"\"\n",
    "\n",
    "prompt = HumanMessagePromptTemplate.from_template(prompt)\n",
    "\n",
    "messages = [system, prompt]\n",
    "template = ChatPromptTemplate(messages)\n",
    "\n",
    "summary_chain = template | llm | StrOutputParser()"
   ]
  },
  {
   "cell_type": "code",
   "execution_count": null,
   "metadata": {},
   "outputs": [
    {
     "data": {
      "text/plain": [
       "ChatPromptTemplate(input_variables=['context', 'words'], input_types={}, partial_variables={}, messages=[SystemMessagePromptTemplate(prompt=PromptTemplate(input_variables=[], input_types={}, partial_variables={}, template='You are helpful AI assistant who works as document summarizer. \\n                                                   You must not hallucinate or provide any false information.'), additional_kwargs={}), HumanMessagePromptTemplate(prompt=PromptTemplate(input_variables=['context', 'words'], input_types={}, partial_variables={}, template='Summarize the given context in {words}.\\n            ### Context:\\n            {context}\\n\\n            ### Summary:'), additional_kwargs={})])\n",
       "| ChatOllama(model='llama3.2:3b', base_url='http://localhost:11434')\n",
       "| StrOutputParser()"
      ]
     },
     "execution_count": 58,
     "metadata": {},
     "output_type": "execute_result"
    }
   ],
   "source": [
    "summary_chain"
   ]
  },
  {
   "cell_type": "code",
   "execution_count": null,
   "metadata": {},
   "outputs": [
    {
     "name": "stdout",
     "output_type": "stream",
     "text": [
      "This article discusses the potential therapeutic and toxic mechanisms of action of botanical supplements, also known as herbal remedies. The authors review various botanicals, their primary active constituents, typical use, dosage, and reported adverse effects. They note that concurrent exposure to other compounds and the heterogeneity of herbal supplements can make it difficult to determine the specific mechanism of toxicity. Case reports have identified potential mechanisms for liver toxicity in some botanicals, such as black cohosh, kava kava, saw palmetto, and milk thistle. Other botanicals, such as yohimbe and ginkgo biloba, have been associated with non-hepatic symptoms like seizures and bleeding. The article also discusses potential herb-drug interactions, where the activation of metabolizing enzymes can affect the pharmacokinetics of drugs.\n",
      "\n",
      "Some key points from the article include:\n",
      "\n",
      "* Botanical supplements can have therapeutic and toxic mechanisms of action.\n",
      "* Many botanicals have not been thoroughly studied for their safety and efficacy.\n",
      "* Adverse effects are often mild but can be serious in some cases, such as liver failure and bleeding.\n",
      "* Herb-drug interactions can occur due to the activation of metabolizing enzymes.\n",
      "* The pregnane-X receptor (PXR) and aryl hydrocarbon receptor (AhR) are common mechanisms among several botanicals.\n",
      "\n",
      "Overall, the article highlights the need for further research on the safety and efficacy of botanical supplements and their potential interactions with other medications.\n"
     ]
    }
   ],
   "source": [
    "response = summary_chain.invoke({'context': context, 'words': 50})\n",
    "print(response)"
   ]
  },
  {
   "cell_type": "code",
   "execution_count": null,
   "metadata": {},
   "outputs": [
    {
     "name": "stdout",
     "output_type": "stream",
     "text": [
      "This article discusses the potential toxicities and interactions of botanical supplements, including their active compounds, typical use, dosage, and reported adverse effects. The authors review various case reports and in vivo studies to highlight the mechanisms underlying these adverse effects, such as mitochondrial dysfunction, oxidative stress, and alteration of bile acid homeostasis. They also discuss herb-drug interactions, including induction or suppression of metabolizing enzymes, which can affect the pharmacokinetics of drugs. The article emphasizes the need for caution when using botanical supplements, particularly in combination with other compounds, and highlights the importance of monitoring patients for potential adverse effects.\n"
     ]
    }
   ],
   "source": [
    "response = summary_chain.invoke({'context': context, 'words': 500})\n",
    "print(response)"
   ]
  },
  {
   "cell_type": "markdown",
   "metadata": {},
   "source": [
    "### Project 3: Report Generation from PDF Document"
   ]
  },
  {
   "cell_type": "markdown",
   "metadata": {},
   "source": [
    "Streamlit Tutorial: https://www.youtube.com/watch?v=hff2tHUzxJM&list=PLc2rvfiptPSSpZ99EnJbH5LjTJ_nOoSWW"
   ]
  },
  {
   "cell_type": "code",
   "execution_count": null,
   "metadata": {},
   "outputs": [
    {
     "name": "stdout",
     "output_type": "stream",
     "text": [
      "**Botanical Supplements and Potential Adverse Effects**\n",
      "\n",
      "The use of botanical supplements has become increasingly popular, with many people turning to these products for their purported health benefits. However, like any other substance, botanicals can also pose potential risks and adverse effects.\n",
      "\n",
      "**Commonly Used Botanical Supplements and Their Potential Risks**\n",
      "\n",
      "1. **Black Cohosh (Cimicifuga racemosa)**\n",
      "\t* Associated with jaundice and liver failure in menopausal women\n",
      "\t* Possible mechanisms: mitochondrial dysfunction, oxidative stress, and alteration of bile acid homeostasis\n",
      "2. **Kava Kava**\n",
      "\t* Linked to liver toxicity, sometimes requiring transplants\n",
      "\t* Possible mechanisms: depletion of glutathione, increasing oxidative stress, and inhibition of cyclooxygenases (mitochondrial dysfunction)\n",
      "3. **Saw Palmetto**\n",
      "\t* Use has been associated with cholestatic hepatitis and pancreatitis\n",
      "\t* Possible mechanism: alterations in bile secretion\n",
      "4. **Echinacea**\n",
      "\t* Cholestatic symptoms were seen in patients with acute liver failure after ingestion\n",
      "\t* Specific mechanism not hypothesized\n",
      "5. **Valerian**\n",
      "\t* Valerian use induced jaundice, which was reversed by steroid administration\n",
      "6. **Yohimbe**\n",
      "\t* Sympathomimetic properties can lead to seizures, tachycardia, and hypertension\n",
      "7. **Milk Thistle**\n",
      "\t* Exacerbated hemochromatosis (iron overload) in a genetically predisposed patient\n",
      "8. **Ginseng**\n",
      "\t* Implicated in a transient ischemic attack\n",
      "9. **Black Cohosh** (again)\n",
      "\t* Slow heart rate is a reported side effect, possibly due to activation of serotonin receptors\n",
      "\n",
      "**Herb-Drug Interactions**\n",
      "\n",
      "Botanical supplements can interact with other medications, potentially leading to adverse effects.\n",
      "\n",
      "1. **Induction or Suppression of Metabolizing Enzymes**\n",
      "\t* Activation of the pregnane-X receptor (PXR) and the aryl hydrocarbon receptor (AhR)\n",
      "2. **Specific Examples**\n",
      "\t* Aged garlic extract inhibits platelet aggregation\n",
      "\t* Gingkolide B, an active component of ginkgo biloba, inhibits platelet aggregating factor\n",
      "\n",
      "**Conclusion**\n",
      "\n",
      "While botanical supplements may offer potential health benefits, they can also pose risks and adverse effects. It is essential to be aware of these potential risks and to consult with a healthcare professional before using any botanical supplement.\n"
     ]
    }
   ],
   "source": [
    "response = qna_chain.invoke({'context': context, \n",
    "                             'question': \"Provide a detailed report from the provided context. Write answer in Markdown.\", \n",
    "                             'words': 2000})\n",
    "print(response)"
   ]
  },
  {
   "cell_type": "code",
   "execution_count": null,
   "metadata": {},
   "outputs": [],
   "source": []
  }
 ],
 "metadata": {
  "kernelspec": {
   "display_name": "Python 3",
   "language": "python",
   "name": "python3"
  },
  "language_info": {
   "codemirror_mode": {
    "name": "ipython",
    "version": 3
   },
   "file_extension": ".py",
   "mimetype": "text/x-python",
   "name": "python",
   "nbconvert_exporter": "python",
   "pygments_lexer": "ipython3",
   "version": "3.12.4"
  }
 },
 "nbformat": 4,
 "nbformat_minor": 2
}
