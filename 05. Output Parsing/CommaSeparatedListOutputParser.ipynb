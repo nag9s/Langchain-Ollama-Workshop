{
 "cells": [
  {
   "cell_type": "code",
   "execution_count": 16,
   "id": "d8853d48-222a-4e28-90ba-91c3cce05228",
   "metadata": {},
   "outputs": [],
   "source": [
    "from langchain_ollama import ChatOllama\n",
    "from langchain_core.prompts import (\n",
    "    SystemMessagePromptTemplate,\n",
    "    HumanMessagePromptTemplate,\n",
    "    ChatPromptTemplate,\n",
    "    PromptTemplate\n",
    ")\n",
    "from langchain_core.output_parsers import CommaSeparatedListOutputParser"
   ]
  },
  {
   "cell_type": "code",
   "execution_count": 17,
   "id": "658c5629-2983-40e4-be2f-cb70434991e6",
   "metadata": {},
   "outputs": [
    {
     "data": {
      "text/plain": [
       "True"
      ]
     },
     "execution_count": 17,
     "metadata": {},
     "output_type": "execute_result"
    }
   ],
   "source": [
    "from dotenv import load_dotenv\n",
    "\n",
    "load_dotenv('../env')"
   ]
  },
  {
   "cell_type": "code",
   "execution_count": 18,
   "id": "c28b198b-8baa-4810-a31d-fdf19d740ef7",
   "metadata": {},
   "outputs": [],
   "source": [
    "# Ollama configuration\n",
    "base_url = \"http://localhost:11434\"\n",
    "model = 'llama3.2:3b'\n",
    "\n",
    "# Initialize the LLM\n",
    "llm = ChatOllama(base_url=base_url, model=model)"
   ]
  },
  {
   "cell_type": "code",
   "execution_count": 19,
   "id": "fb2caf35-93a8-4c4a-a182-c414dcb6b432",
   "metadata": {},
   "outputs": [],
   "source": [
    "# Create the output parser\n",
    "output_parser = CommaSeparatedListOutputParser()\n",
    "\n",
    "# Get format instructions\n",
    "format_instructions = output_parser.get_format_instructions()\n"
   ]
  },
  {
   "cell_type": "code",
   "execution_count": 20,
   "id": "d12666ac-c357-4082-8f27-fcb366431d6e",
   "metadata": {},
   "outputs": [
    {
     "name": "stdout",
     "output_type": "stream",
     "text": [
      "Your response should be a list of comma separated values, eg: `foo, bar, baz` or `foo,bar,baz`\n"
     ]
    }
   ],
   "source": [
    "print(format_instructions)"
   ]
  },
  {
   "cell_type": "code",
   "execution_count": 21,
   "id": "be396521-69a3-4093-83ed-7d8aec963702",
   "metadata": {},
   "outputs": [],
   "source": [
    "# Create the prompt template\n",
    "prompt = PromptTemplate(\n",
    "    template=\"Suggest some names for my {subject} startup.\\n{format_instructions}\",\n",
    "    input_variables=[\"subject\"],\n",
    "    partial_variables={\"format_instructions\": format_instructions}\n",
    ")\n"
   ]
  },
  {
   "cell_type": "code",
   "execution_count": 22,
   "id": "955a22ae-cc7a-497d-96df-f31795274579",
   "metadata": {},
   "outputs": [],
   "source": [
    "# without parser\n",
    "chain = prompt | llm "
   ]
  },
  {
   "cell_type": "code",
   "execution_count": 23,
   "id": "434b97eb-9976-4648-b54e-af410304e9bc",
   "metadata": {},
   "outputs": [],
   "source": [
    "result = chain.invoke({\"subject\": \"Payment Processing\"})"
   ]
  },
  {
   "cell_type": "code",
   "execution_count": 24,
   "id": "39f1a4f8-b8ef-48a3-8e89-4c591925fa35",
   "metadata": {},
   "outputs": [
    {
     "name": "stdout",
     "output_type": "stream",
     "text": [
      "content=\"Here are some name suggestions for your payment processing startup:\\n\\nSecurePay, PayPro, FastCharge, MoneyFlow, ProximaPay, SecureLink, PayHive, CheckoutZone, PaySphere, PayGenie.\\n\\nIf you'd like more options or have specific preferences (e.g. wordplay, alliteration), let me know and I can generate additional suggestions!\" additional_kwargs={} response_metadata={'model': 'llama3.2:3b', 'created_at': '2025-03-21T14:36:24.862600836Z', 'done': True, 'done_reason': 'stop', 'total_duration': 4473966565, 'load_duration': 22400268, 'prompt_eval_count': 63, 'prompt_eval_duration': 75249839, 'eval_count': 76, 'eval_duration': 4375604999, 'message': Message(role='assistant', content='', images=None, tool_calls=None)} id='run-fca08665-8547-483e-8764-6c15ddd851d5-0' usage_metadata={'input_tokens': 63, 'output_tokens': 76, 'total_tokens': 139}\n"
     ]
    }
   ],
   "source": [
    "# Print the result\n",
    "print(result)"
   ]
  },
  {
   "cell_type": "code",
   "execution_count": 25,
   "id": "b6258154-33ea-4614-8187-43bef64e855a",
   "metadata": {},
   "outputs": [],
   "source": [
    "# Create the LCEL chain\n",
    "chain = prompt | llm | output_parser\n",
    "\n",
    "# Invoke the chain\n",
    "result = chain.invoke({\"subject\": \"Payment Processing\"})"
   ]
  },
  {
   "cell_type": "code",
   "execution_count": 26,
   "id": "d039f980-5eb0-402b-8adb-105b18555a7e",
   "metadata": {},
   "outputs": [
    {
     "name": "stdout",
     "output_type": "stream",
     "text": [
      "['Here are some name suggestions for your payment processing startup:', 'SecurePay', 'PayGenie', 'ProximaPay', 'CashFusion', 'PaySphere', 'ProcessIt', 'VisaPlus', 'SecureCharge', 'PayMint', 'PayHero', 'WalletWise', 'FastFee', 'ClearPay', 'TrustPay', 'ApexPay', 'PayWave', 'Please note that you should check if the desired domain name and social media handles are available before finalizing a name for your startup.']\n"
     ]
    }
   ],
   "source": [
    "\n",
    "# Print the result\n",
    "print(result)"
   ]
  },
  {
   "cell_type": "code",
   "execution_count": null,
   "id": "5521a29b-721d-45c8-919d-bdf59e736639",
   "metadata": {},
   "outputs": [],
   "source": []
  }
 ],
 "metadata": {
  "kernelspec": {
   "display_name": "Python (ml)",
   "language": "python",
   "name": "ml"
  },
  "language_info": {
   "codemirror_mode": {
    "name": "ipython",
    "version": 3
   },
   "file_extension": ".py",
   "mimetype": "text/x-python",
   "name": "python",
   "nbconvert_exporter": "python",
   "pygments_lexer": "ipython3",
   "version": "3.12.9"
  }
 },
 "nbformat": 4,
 "nbformat_minor": 5
}
