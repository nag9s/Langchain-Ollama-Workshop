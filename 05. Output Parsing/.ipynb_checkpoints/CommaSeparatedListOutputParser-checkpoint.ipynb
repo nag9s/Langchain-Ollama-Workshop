{
 "cells": [
  {
   "cell_type": "code",
   "execution_count": null,
   "id": "d8853d48-222a-4e28-90ba-91c3cce05228",
   "metadata": {},
   "outputs": [],
   "source": [
    "from langchain_ollama import ChatOllama\n",
    "from langchain_core.prompts import (\n",
    "    SystemMessagePromptTemplate,\n",
    "    HumanMessagePromptTemplate,\n",
    "    ChatPromptTemplate,\n",
    "    PromptTemplate\n",
    ")\n",
    "from langchain_core.output_parsers import CommaSeparatedListOutputParser"
   ]
  },
  {
   "cell_type": "code",
   "execution_count": null,
   "id": "658c5629-2983-40e4-be2f-cb70434991e6",
   "metadata": {},
   "outputs": [],
   "source": [
    "from dotenv import load_dotenv\n",
    "\n",
    "load_dotenv('../env')"
   ]
  },
  {
   "cell_type": "code",
   "execution_count": null,
   "id": "c28b198b-8baa-4810-a31d-fdf19d740ef7",
   "metadata": {},
   "outputs": [],
   "source": [
    "# Ollama configuration\n",
    "base_url = \"http://localhost:11434\"\n",
    "model = 'llama3.2:3b'\n",
    "\n",
    "# Initialize the LLM\n",
    "llm = ChatOllama(base_url=base_url, model=model)"
   ]
  },
  {
   "cell_type": "code",
   "execution_count": null,
   "id": "fb2caf35-93a8-4c4a-a182-c414dcb6b432",
   "metadata": {},
   "outputs": [],
   "source": [
    "# Create the output parser\n",
    "output_parser = CommaSeparatedListOutputParser()\n",
    "\n",
    "# Get format instructions\n",
    "format_instructions = output_parser.get_format_instructions()\n"
   ]
  },
  {
   "cell_type": "code",
   "execution_count": null,
   "id": "be396521-69a3-4093-83ed-7d8aec963702",
   "metadata": {},
   "outputs": [],
   "source": [
    "# Create the prompt template\n",
    "prompt = PromptTemplate(\n",
    "    template=\"Suggest some names for my {subject} startup.\\n{format_instructions}\",\n",
    "    input_variables=[\"subject\"],\n",
    "    partial_variables={\"format_instructions\": format_instructions}\n",
    ")\n"
   ]
  },
  {
   "cell_type": "code",
   "execution_count": null,
   "id": "b6258154-33ea-4614-8187-43bef64e855a",
   "metadata": {},
   "outputs": [],
   "source": [
    "# Create the LCEL chain\n",
    "chain = prompt | llm | output_parser\n",
    "\n",
    "# Invoke the chain\n",
    "result = chain.invoke({\"subject\": \"Mobile\"})"
   ]
  },
  {
   "cell_type": "code",
   "execution_count": null,
   "id": "d039f980-5eb0-402b-8adb-105b18555a7e",
   "metadata": {},
   "outputs": [],
   "source": [
    "\n",
    "# Print the result\n",
    "print(result)"
   ]
  }
 ],
 "metadata": {
  "kernelspec": {
   "display_name": "Python (ml)",
   "language": "python",
   "name": "ml"
  },
  "language_info": {
   "codemirror_mode": {
    "name": "ipython",
    "version": 3
   },
   "file_extension": ".py",
   "mimetype": "text/x-python",
   "name": "python",
   "nbconvert_exporter": "python",
   "pygments_lexer": "ipython3",
   "version": "3.12.9"
  }
 },
 "nbformat": 4,
 "nbformat_minor": 5
}
